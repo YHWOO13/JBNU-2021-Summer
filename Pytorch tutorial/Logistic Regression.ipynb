{
 "cells": [
  {
   "cell_type": "code",
   "execution_count": 17,
   "metadata": {},
   "outputs": [
    {
     "data": {
      "text/plain": [
       "' \\n Author: Yoonhyuck WOO / JBNU_Industrial Information system Engineering\\n Date; 7. 21. 2021 - 7. 22. 2021\\n Title: Linear Regression\\n Reference: https://wikidocs.net/57810'"
      ]
     },
     "execution_count": 17,
     "metadata": {},
     "output_type": "execute_result"
    }
   ],
   "source": [
    "''' \n",
    " Author: Yoonhyuck WOO / JBNU_Industrial Information system Engineering\n",
    " Date; 7. 21. 2021 - 7. 22. 2021\n",
    " Title: Linear Regression\n",
    " Reference: https://wikidocs.net/57810'''"
   ]
  },
  {
   "cell_type": "code",
   "execution_count": 2,
   "metadata": {},
   "outputs": [],
   "source": [
    "import torch\n",
    "import torch.nn as nn\n",
    "import torch.nn.functional as F\n",
    "import torch.optim as optim"
   ]
  },
  {
   "cell_type": "markdown",
   "metadata": {},
   "source": [
    "# W값: 그래프의 경사도를 결정 (W값이 커지면 경사가 커지고, W값이 작아지면 경사가 작아집니다)\n",
    "# b값: b의 값에 따라서 그래프가 좌,우로 이동하는 것을 보여준다\n",
    "# 시그모이드 함수를 이용한 분류\n",
    "- 시그모이드 함수의 출력값은 0과 1사이의 값을 가짐\n",
    "- 임계값을 0.5라고 정함. 출력값이 0.5 이상이면 1(True), 0.5이하면 0(False)으로 판단\n",
    "- 확률이라고 생각하면 해당 레이블에 속할 확률이 50%가 넘으면 해당 레이블로 판단하고, 해당 레이블에 속할 확률이 50%보다 낮으면 아니라고 판단"
   ]
  },
  {
   "cell_type": "markdown",
   "metadata": {},
   "source": [
    "# 오차함수: 로지스틱회귀에서는 오차함수를 MSE로 사용하면 안된다\n",
    "- 이유: 오차함수를 미분하면 비볼록(non-convex) 형태의 그래프가 나온다.\n",
    "- 문제점: 경사 하강법이 오차가 최소값이 되는 구간에 도착했다고 판단한 그 구간이 실제 오차가 완전히 최소값이 되는 구간이 아닐 수 있다는 점"
   ]
  },
  {
   "cell_type": "code",
   "execution_count": 3,
   "metadata": {},
   "outputs": [],
   "source": [
    "x_data = [[1,2],[2,2],[3,2],[4,2],[5,2],[6,2]]\n",
    "y_data = [[0],[0],[0],[1],[1],[1]]\n",
    "x_train = torch.FloatTensor(x_data)\n",
    "y_train = torch.FloatTensor(y_data)"
   ]
  },
  {
   "cell_type": "code",
   "execution_count": 4,
   "metadata": {},
   "outputs": [],
   "source": [
    "w = torch.zeros((2,1), requires_grad = True)\n",
    "b = torch.zeros(1, requires_grad = True)"
   ]
  },
  {
   "cell_type": "markdown",
   "metadata": {},
   "source": [
    "# 예측 전 w,b"
   ]
  },
  {
   "cell_type": "code",
   "execution_count": 5,
   "metadata": {},
   "outputs": [
    {
     "name": "stdout",
     "output_type": "stream",
     "text": [
      "tensor([[0.],\n",
      "        [0.]], requires_grad=True)\n",
      "tensor([0.], requires_grad=True)\n"
     ]
    }
   ],
   "source": [
    "print(w)\n",
    "print(b)"
   ]
  },
  {
   "cell_type": "code",
   "execution_count": 6,
   "metadata": {},
   "outputs": [
    {
     "name": "stdout",
     "output_type": "stream",
     "text": [
      "Epoch    0/13 Cost: 0.693147\n",
      "Epoch    1/13 Cost: 0.878562\n",
      "Epoch    2/13 Cost: 1.156449\n",
      "Epoch    3/13 Cost: 2.088164\n",
      "Epoch    4/13 Cost: 0.375788\n",
      "Epoch    5/13 Cost: 0.422735\n",
      "Epoch    6/13 Cost: 0.712797\n",
      "Epoch    7/13 Cost: 0.306652\n",
      "Epoch    8/13 Cost: 0.395427\n",
      "Epoch    9/13 Cost: 0.267403\n",
      "Epoch   10/13 Cost: 0.306452\n",
      "Epoch   11/13 Cost: 0.223569\n",
      "Epoch   12/13 Cost: 0.228967\n",
      "Epoch   13/13 Cost: 0.192086\n"
     ]
    }
   ],
   "source": [
    "optimizer = optim.SGD([w,b], lr = 1)\n",
    "\n",
    "nb_epochs = 13\n",
    "for epoch in range(nb_epochs + 1):\n",
    "    \n",
    "    hypothesis = torch.sigmoid(x_train.matmul(w) + b)\n",
    "    cost = -(y_train * torch.log(hypothesis) +\n",
    "            (1 - y_train) * torch.log(1 - hypothesis)).mean()\n",
    "    \n",
    "    optimizer.zero_grad()\n",
    "    cost.backward()\n",
    "    optimizer.step()\n",
    "    \n",
    "    print('Epoch {:4d}/{} Cost: {:.6f}'.format(\n",
    "    epoch, nb_epochs, cost.item()\n",
    "    ))"
   ]
  },
  {
   "cell_type": "code",
   "execution_count": 7,
   "metadata": {},
   "outputs": [
    {
     "name": "stdout",
     "output_type": "stream",
     "text": [
      "tensor([[False],\n",
      "        [False],\n",
      "        [False],\n",
      "        [ True],\n",
      "        [ True],\n",
      "        [ True]])\n"
     ]
    }
   ],
   "source": [
    "prediction = hypothesis >= torch.FloatTensor([0.5])\n",
    "print(prediction)"
   ]
  },
  {
   "cell_type": "markdown",
   "metadata": {},
   "source": [
    "# 예측 후 w,b"
   ]
  },
  {
   "cell_type": "code",
   "execution_count": 8,
   "metadata": {},
   "outputs": [
    {
     "name": "stdout",
     "output_type": "stream",
     "text": [
      "tensor([[ 1.6804],\n",
      "        [-2.0070]], requires_grad=True)\n",
      "tensor([-1.0035], requires_grad=True)\n"
     ]
    }
   ],
   "source": [
    "print(w)\n",
    "print(b)"
   ]
  },
  {
   "cell_type": "markdown",
   "metadata": {},
   "source": [
    "# nn.Modeul (nn.Sigmoid 사용)"
   ]
  },
  {
   "cell_type": "code",
   "execution_count": 9,
   "metadata": {},
   "outputs": [],
   "source": [
    "x_data1 = [[1, 2], [2, 3], [3, 1], [4, 3], [5, 3], [6, 2]]\n",
    "x_train1 = torch.FloatTensor(x_data1)"
   ]
  },
  {
   "cell_type": "code",
   "execution_count": 10,
   "metadata": {},
   "outputs": [],
   "source": [
    "model = nn.Sequential(\n",
    "nn.Linear(2,1),\n",
    "nn.Sigmoid())"
   ]
  },
  {
   "cell_type": "code",
   "execution_count": 11,
   "metadata": {},
   "outputs": [
    {
     "data": {
      "text/plain": [
       "tensor([[0.5386],\n",
       "        [0.5754],\n",
       "        [0.3204],\n",
       "        [0.4499],\n",
       "        [0.3885],\n",
       "        [0.2483]], grad_fn=<SigmoidBackward>)"
      ]
     },
     "execution_count": 11,
     "metadata": {},
     "output_type": "execute_result"
    }
   ],
   "source": [
    "model(x_train1)"
   ]
  },
  {
   "cell_type": "code",
   "execution_count": 12,
   "metadata": {},
   "outputs": [
    {
     "name": "stdout",
     "output_type": "stream",
     "text": [
      "Epoch    0/100 Cost: 0.858931 Accuracy 16.67%\n",
      "Epoch    1/100 Cost: 1.520122 Accuracy 50.00%\n",
      "Epoch    2/100 Cost: 0.961638 Accuracy 50.00%\n",
      "Epoch    3/100 Cost: 2.201398 Accuracy 50.00%\n",
      "Epoch    4/100 Cost: 0.449557 Accuracy 83.33%\n",
      "Epoch    5/100 Cost: 0.550127 Accuracy 66.67%\n",
      "Epoch    6/100 Cost: 1.043686 Accuracy 50.00%\n",
      "Epoch    7/100 Cost: 0.659785 Accuracy 66.67%\n",
      "Epoch    8/100 Cost: 1.281957 Accuracy 50.00%\n",
      "Epoch    9/100 Cost: 0.432780 Accuracy 66.67%\n",
      "Epoch   10/100 Cost: 0.544474 Accuracy 83.33%\n",
      "Epoch   11/100 Cost: 0.530235 Accuracy 66.67%\n",
      "Epoch   12/100 Cost: 0.833761 Accuracy 66.67%\n",
      "Epoch   13/100 Cost: 0.469911 Accuracy 66.67%\n",
      "Epoch   14/100 Cost: 0.651454 Accuracy 66.67%\n",
      "Epoch   15/100 Cost: 0.457928 Accuracy 83.33%\n",
      "Epoch   16/100 Cost: 0.624492 Accuracy 66.67%\n",
      "Epoch   17/100 Cost: 0.434564 Accuracy 83.33%\n",
      "Epoch   18/100 Cost: 0.573685 Accuracy 83.33%\n",
      "Epoch   19/100 Cost: 0.417370 Accuracy 83.33%\n",
      "Epoch   20/100 Cost: 0.542982 Accuracy 83.33%\n",
      "Epoch   21/100 Cost: 0.402111 Accuracy 83.33%\n",
      "Epoch   22/100 Cost: 0.518321 Accuracy 83.33%\n",
      "Epoch   23/100 Cost: 0.388213 Accuracy 83.33%\n",
      "Epoch   24/100 Cost: 0.497161 Accuracy 83.33%\n",
      "Epoch   25/100 Cost: 0.375219 Accuracy 83.33%\n",
      "Epoch   26/100 Cost: 0.477860 Accuracy 83.33%\n",
      "Epoch   27/100 Cost: 0.362872 Accuracy 83.33%\n",
      "Epoch   28/100 Cost: 0.459585 Accuracy 83.33%\n",
      "Epoch   29/100 Cost: 0.351026 Accuracy 83.33%\n",
      "Epoch   30/100 Cost: 0.441905 Accuracy 83.33%\n",
      "Epoch   31/100 Cost: 0.339588 Accuracy 83.33%\n",
      "Epoch   32/100 Cost: 0.424606 Accuracy 83.33%\n",
      "Epoch   33/100 Cost: 0.328497 Accuracy 83.33%\n",
      "Epoch   34/100 Cost: 0.407576 Accuracy 83.33%\n",
      "Epoch   35/100 Cost: 0.317711 Accuracy 83.33%\n",
      "Epoch   36/100 Cost: 0.390764 Accuracy 83.33%\n",
      "Epoch   37/100 Cost: 0.307191 Accuracy 83.33%\n",
      "Epoch   38/100 Cost: 0.374148 Accuracy 83.33%\n",
      "Epoch   39/100 Cost: 0.296911 Accuracy 83.33%\n",
      "Epoch   40/100 Cost: 0.357729 Accuracy 83.33%\n",
      "Epoch   41/100 Cost: 0.286846 Accuracy 83.33%\n",
      "Epoch   42/100 Cost: 0.341519 Accuracy 83.33%\n",
      "Epoch   43/100 Cost: 0.276977 Accuracy 83.33%\n",
      "Epoch   44/100 Cost: 0.325543 Accuracy 83.33%\n",
      "Epoch   45/100 Cost: 0.267290 Accuracy 83.33%\n",
      "Epoch   46/100 Cost: 0.309840 Accuracy 83.33%\n",
      "Epoch   47/100 Cost: 0.257777 Accuracy 83.33%\n",
      "Epoch   48/100 Cost: 0.294456 Accuracy 83.33%\n",
      "Epoch   49/100 Cost: 0.248436 Accuracy 83.33%\n",
      "Epoch   50/100 Cost: 0.279454 Accuracy 83.33%\n",
      "Epoch   51/100 Cost: 0.239275 Accuracy 100.00%\n",
      "Epoch   52/100 Cost: 0.264907 Accuracy 83.33%\n",
      "Epoch   53/100 Cost: 0.230310 Accuracy 100.00%\n",
      "Epoch   54/100 Cost: 0.250903 Accuracy 83.33%\n",
      "Epoch   55/100 Cost: 0.221569 Accuracy 100.00%\n",
      "Epoch   56/100 Cost: 0.237538 Accuracy 83.33%\n",
      "Epoch   57/100 Cost: 0.213089 Accuracy 100.00%\n",
      "Epoch   58/100 Cost: 0.224918 Accuracy 83.33%\n",
      "Epoch   59/100 Cost: 0.204921 Accuracy 100.00%\n",
      "Epoch   60/100 Cost: 0.213153 Accuracy 83.33%\n",
      "Epoch   61/100 Cost: 0.197123 Accuracy 100.00%\n",
      "Epoch   62/100 Cost: 0.202344 Accuracy 83.33%\n",
      "Epoch   63/100 Cost: 0.189764 Accuracy 100.00%\n",
      "Epoch   64/100 Cost: 0.192578 Accuracy 100.00%\n",
      "Epoch   65/100 Cost: 0.182910 Accuracy 100.00%\n",
      "Epoch   66/100 Cost: 0.183916 Accuracy 100.00%\n",
      "Epoch   67/100 Cost: 0.176626 Accuracy 100.00%\n",
      "Epoch   68/100 Cost: 0.176378 Accuracy 100.00%\n",
      "Epoch   69/100 Cost: 0.170960 Accuracy 100.00%\n",
      "Epoch   70/100 Cost: 0.169938 Accuracy 100.00%\n",
      "Epoch   71/100 Cost: 0.165936 Accuracy 100.00%\n",
      "Epoch   72/100 Cost: 0.164520 Accuracy 100.00%\n",
      "Epoch   73/100 Cost: 0.161544 Accuracy 100.00%\n",
      "Epoch   74/100 Cost: 0.159999 Accuracy 100.00%\n",
      "Epoch   75/100 Cost: 0.157736 Accuracy 100.00%\n",
      "Epoch   76/100 Cost: 0.156222 Accuracy 100.00%\n",
      "Epoch   77/100 Cost: 0.154434 Accuracy 100.00%\n",
      "Epoch   78/100 Cost: 0.153021 Accuracy 100.00%\n",
      "Epoch   79/100 Cost: 0.151539 Accuracy 100.00%\n",
      "Epoch   80/100 Cost: 0.150241 Accuracy 100.00%\n",
      "Epoch   81/100 Cost: 0.148950 Accuracy 100.00%\n",
      "Epoch   82/100 Cost: 0.147751 Accuracy 100.00%\n",
      "Epoch   83/100 Cost: 0.146579 Accuracy 100.00%\n",
      "Epoch   84/100 Cost: 0.145456 Accuracy 100.00%\n",
      "Epoch   85/100 Cost: 0.144359 Accuracy 100.00%\n",
      "Epoch   86/100 Cost: 0.143293 Accuracy 100.00%\n",
      "Epoch   87/100 Cost: 0.142248 Accuracy 100.00%\n",
      "Epoch   88/100 Cost: 0.141224 Accuracy 100.00%\n",
      "Epoch   89/100 Cost: 0.140218 Accuracy 100.00%\n",
      "Epoch   90/100 Cost: 0.139228 Accuracy 100.00%\n",
      "Epoch   91/100 Cost: 0.138254 Accuracy 100.00%\n",
      "Epoch   92/100 Cost: 0.137295 Accuracy 100.00%\n",
      "Epoch   93/100 Cost: 0.136349 Accuracy 100.00%\n",
      "Epoch   94/100 Cost: 0.135417 Accuracy 100.00%\n",
      "Epoch   95/100 Cost: 0.134499 Accuracy 100.00%\n",
      "Epoch   96/100 Cost: 0.133593 Accuracy 100.00%\n",
      "Epoch   97/100 Cost: 0.132699 Accuracy 100.00%\n",
      "Epoch   98/100 Cost: 0.131818 Accuracy 100.00%\n",
      "Epoch   99/100 Cost: 0.130948 Accuracy 100.00%\n",
      "Epoch  100/100 Cost: 0.130090 Accuracy 100.00%\n"
     ]
    }
   ],
   "source": [
    "optimizer1 = optim.SGD(model.parameters(), lr = 1)\n",
    "nb_epochs = 100\n",
    "for epoch in range(nb_epochs + 1):\n",
    "    hypothesis = model(x_train1)\n",
    "    cost = F.binary_cross_entropy(hypothesis, y_train)\n",
    "    \n",
    "    optimizer1.zero_grad()\n",
    "    cost.backward()\n",
    "    optimizer1.step()\n",
    "    \n",
    "    prediction = hypothesis >= torch.FloatTensor([0.5])\n",
    "    correct_prediction = prediction.float() == y_train\n",
    "    accuracy = correct_prediction.sum().item() / len(correct_prediction)\n",
    "    \n",
    "    print('Epoch {:4d}/{} Cost: {:6f} Accuracy {:2.2f}%'.format(\n",
    "    epoch, nb_epochs, cost.item(), accuracy * 100,\n",
    "    ))"
   ]
  },
  {
   "cell_type": "markdown",
   "metadata": {},
   "source": [
    "# 클래스로 모델 구현하기"
   ]
  },
  {
   "cell_type": "code",
   "execution_count": 13,
   "metadata": {},
   "outputs": [],
   "source": [
    "class BinaryClassifier(nn.Module):\n",
    "    def __init__(self):\n",
    "        super().__init__()\n",
    "        self.linear = nn.Linear(2,1)\n",
    "        self.sigmoid = nn.Sigmoid()\n",
    "        \n",
    "    def forward(self,x):\n",
    "        return self.sigmoid(self.linear(x))"
   ]
  },
  {
   "cell_type": "code",
   "execution_count": 14,
   "metadata": {},
   "outputs": [
    {
     "data": {
      "text/plain": [
       "<torch._C.Generator at 0x1d484b30830>"
      ]
     },
     "execution_count": 14,
     "metadata": {},
     "output_type": "execute_result"
    }
   ],
   "source": [
    "torch.manual_seed(1)"
   ]
  },
  {
   "cell_type": "code",
   "execution_count": 15,
   "metadata": {},
   "outputs": [],
   "source": [
    "model1 = BinaryClassifier()"
   ]
  },
  {
   "cell_type": "code",
   "execution_count": 16,
   "metadata": {},
   "outputs": [
    {
     "name": "stdout",
     "output_type": "stream",
     "text": [
      "Epoch    0/33 Cost:0.496892 Accuracy 83.33%\n",
      "Epoch    1/33 Cost:0.427390 Accuracy 83.33%\n",
      "Epoch    2/33 Cost:0.383873 Accuracy 83.33%\n",
      "Epoch    3/33 Cost:0.377769 Accuracy 100.00%\n",
      "Epoch    4/33 Cost:0.483589 Accuracy 66.67%\n",
      "Epoch    5/33 Cost:0.527673 Accuracy 66.67%\n",
      "Epoch    6/33 Cost:0.993595 Accuracy 66.67%\n",
      "Epoch    7/33 Cost:0.245949 Accuracy 100.00%\n",
      "Epoch    8/33 Cost:0.259831 Accuracy 83.33%\n",
      "Epoch    9/33 Cost:0.242809 Accuracy 100.00%\n",
      "Epoch   10/33 Cost:0.261455 Accuracy 83.33%\n",
      "Epoch   11/33 Cost:0.222988 Accuracy 100.00%\n",
      "Epoch   12/33 Cost:0.228899 Accuracy 83.33%\n",
      "Epoch   13/33 Cost:0.197163 Accuracy 100.00%\n",
      "Epoch   14/33 Cost:0.193258 Accuracy 83.33%\n",
      "Epoch   15/33 Cost:0.176282 Accuracy 100.00%\n",
      "Epoch   16/33 Cost:0.170355 Accuracy 100.00%\n",
      "Epoch   17/33 Cost:0.162177 Accuracy 100.00%\n",
      "Epoch   18/33 Cost:0.157485 Accuracy 100.00%\n",
      "Epoch   19/33 Cost:0.153080 Accuracy 100.00%\n",
      "Epoch   20/33 Cost:0.149689 Accuracy 100.00%\n",
      "Epoch   21/33 Cost:0.146662 Accuracy 100.00%\n",
      "Epoch   22/33 Cost:0.143962 Accuracy 100.00%\n",
      "Epoch   23/33 Cost:0.141458 Accuracy 100.00%\n",
      "Epoch   24/33 Cost:0.139106 Accuracy 100.00%\n",
      "Epoch   25/33 Cost:0.136876 Accuracy 100.00%\n",
      "Epoch   26/33 Cost:0.134753 Accuracy 100.00%\n",
      "Epoch   27/33 Cost:0.132725 Accuracy 100.00%\n",
      "Epoch   28/33 Cost:0.130784 Accuracy 100.00%\n",
      "Epoch   29/33 Cost:0.128923 Accuracy 100.00%\n",
      "Epoch   30/33 Cost:0.127138 Accuracy 100.00%\n",
      "Epoch   31/33 Cost:0.125422 Accuracy 100.00%\n",
      "Epoch   32/33 Cost:0.123772 Accuracy 100.00%\n",
      "Epoch   33/33 Cost:0.122183 Accuracy 100.00%\n"
     ]
    }
   ],
   "source": [
    "optimizer2 = optim.SGD(model1.parameters(), lr = 1)\n",
    "nb_epochs = 33\n",
    "for epoch in range(nb_epochs + 1):\n",
    "    hypothesis = model1(x_train)\n",
    "    cost = F.binary_cross_entropy(hypothesis, y_train)\n",
    "    \n",
    "\n",
    "    optimizer2.zero_grad()\n",
    "    cost.backward()\n",
    "    optimizer2.step()\n",
    "    \n",
    "    prediction = hypothesis >= torch.FloatTensor([0.5])\n",
    "    correct_prediction = prediction.float() == y_train\n",
    "    accuracy = correct_prediction.sum().item() / len(correct_prediction)\n",
    "    print('Epoch {:4d}/{} Cost:{:.6f} Accuracy {:2.2f}%'.format(\n",
    "    epoch, nb_epochs, cost.item(), accuracy * 100))"
   ]
  },
  {
   "cell_type": "code",
   "execution_count": null,
   "metadata": {},
   "outputs": [],
   "source": []
  }
 ],
 "metadata": {
  "kernelspec": {
   "display_name": "Python 3",
   "language": "python",
   "name": "python3"
  },
  "language_info": {
   "codemirror_mode": {
    "name": "ipython",
    "version": 3
   },
   "file_extension": ".py",
   "mimetype": "text/x-python",
   "name": "python",
   "nbconvert_exporter": "python",
   "pygments_lexer": "ipython3",
   "version": "3.7.6"
  }
 },
 "nbformat": 4,
 "nbformat_minor": 4
}
