{
 "cells": [
  {
   "cell_type": "code",
   "execution_count": 3,
   "id": "29fc184e-58af-4231-86bb-810d541cd5df",
   "metadata": {},
   "outputs": [
    {
     "data": {
      "text/plain": [
       "' \\n Author: Yoonhyuck WOO / JBNU_Industrial Information system Engineering\\n Date; 10. 11. 2021 - 10. 15. 2021\\n Title: Pytorch tutorial: Follow [Text] part code\\n Professor: Seung-Hoon Na\\n Reference: https://pytorch.org/tutorials/intermediate/char_rnn_classification_tutorial.html'"
      ]
     },
     "execution_count": 3,
     "metadata": {},
     "output_type": "execute_result"
    }
   ],
   "source": [
    "''' \n",
    " Author: Yoonhyuck WOO / JBNU_Industrial Information system Engineering\n",
    " Date; 10. 11. 2021 - 10. 15. 2021\n",
    " Title: Pytorch tutorial: Follow [Text] part code\n",
    " Professor: Seung-Hoon Na\n",
    " Reference: https://pytorch.org/tutorials/intermediate/char_rnn_classification_tutorial.html'''"
   ]
  },
  {
   "cell_type": "code",
   "execution_count": 4,
   "id": "d779ec46-f5d8-49fe-89e8-cfdee2f42d9d",
   "metadata": {},
   "outputs": [
    {
     "name": "stdout",
     "output_type": "stream",
     "text": [
      "['C:\\\\Users\\\\LG\\\\Desktop\\\\JBNU_ISE\\\\GITHUB\\\\JBNU-2021-Summer\\\\Pytorch tutorial\\\\Text\\\\data\\\\data\\\\names\\\\Arabic.txt', 'C:\\\\Users\\\\LG\\\\Desktop\\\\JBNU_ISE\\\\GITHUB\\\\JBNU-2021-Summer\\\\Pytorch tutorial\\\\Text\\\\data\\\\data\\\\names\\\\Chinese.txt', 'C:\\\\Users\\\\LG\\\\Desktop\\\\JBNU_ISE\\\\GITHUB\\\\JBNU-2021-Summer\\\\Pytorch tutorial\\\\Text\\\\data\\\\data\\\\names\\\\Czech.txt', 'C:\\\\Users\\\\LG\\\\Desktop\\\\JBNU_ISE\\\\GITHUB\\\\JBNU-2021-Summer\\\\Pytorch tutorial\\\\Text\\\\data\\\\data\\\\names\\\\Dutch.txt', 'C:\\\\Users\\\\LG\\\\Desktop\\\\JBNU_ISE\\\\GITHUB\\\\JBNU-2021-Summer\\\\Pytorch tutorial\\\\Text\\\\data\\\\data\\\\names\\\\English.txt', 'C:\\\\Users\\\\LG\\\\Desktop\\\\JBNU_ISE\\\\GITHUB\\\\JBNU-2021-Summer\\\\Pytorch tutorial\\\\Text\\\\data\\\\data\\\\names\\\\French.txt', 'C:\\\\Users\\\\LG\\\\Desktop\\\\JBNU_ISE\\\\GITHUB\\\\JBNU-2021-Summer\\\\Pytorch tutorial\\\\Text\\\\data\\\\data\\\\names\\\\German.txt', 'C:\\\\Users\\\\LG\\\\Desktop\\\\JBNU_ISE\\\\GITHUB\\\\JBNU-2021-Summer\\\\Pytorch tutorial\\\\Text\\\\data\\\\data\\\\names\\\\Greek.txt', 'C:\\\\Users\\\\LG\\\\Desktop\\\\JBNU_ISE\\\\GITHUB\\\\JBNU-2021-Summer\\\\Pytorch tutorial\\\\Text\\\\data\\\\data\\\\names\\\\Irish.txt', 'C:\\\\Users\\\\LG\\\\Desktop\\\\JBNU_ISE\\\\GITHUB\\\\JBNU-2021-Summer\\\\Pytorch tutorial\\\\Text\\\\data\\\\data\\\\names\\\\Italian.txt', 'C:\\\\Users\\\\LG\\\\Desktop\\\\JBNU_ISE\\\\GITHUB\\\\JBNU-2021-Summer\\\\Pytorch tutorial\\\\Text\\\\data\\\\data\\\\names\\\\Japanese.txt', 'C:\\\\Users\\\\LG\\\\Desktop\\\\JBNU_ISE\\\\GITHUB\\\\JBNU-2021-Summer\\\\Pytorch tutorial\\\\Text\\\\data\\\\data\\\\names\\\\Korean.txt', 'C:\\\\Users\\\\LG\\\\Desktop\\\\JBNU_ISE\\\\GITHUB\\\\JBNU-2021-Summer\\\\Pytorch tutorial\\\\Text\\\\data\\\\data\\\\names\\\\Polish.txt', 'C:\\\\Users\\\\LG\\\\Desktop\\\\JBNU_ISE\\\\GITHUB\\\\JBNU-2021-Summer\\\\Pytorch tutorial\\\\Text\\\\data\\\\data\\\\names\\\\Portuguese.txt', 'C:\\\\Users\\\\LG\\\\Desktop\\\\JBNU_ISE\\\\GITHUB\\\\JBNU-2021-Summer\\\\Pytorch tutorial\\\\Text\\\\data\\\\data\\\\names\\\\Russian.txt', 'C:\\\\Users\\\\LG\\\\Desktop\\\\JBNU_ISE\\\\GITHUB\\\\JBNU-2021-Summer\\\\Pytorch tutorial\\\\Text\\\\data\\\\data\\\\names\\\\Scottish.txt', 'C:\\\\Users\\\\LG\\\\Desktop\\\\JBNU_ISE\\\\GITHUB\\\\JBNU-2021-Summer\\\\Pytorch tutorial\\\\Text\\\\data\\\\data\\\\names\\\\Spanish.txt', 'C:\\\\Users\\\\LG\\\\Desktop\\\\JBNU_ISE\\\\GITHUB\\\\JBNU-2021-Summer\\\\Pytorch tutorial\\\\Text\\\\data\\\\data\\\\names\\\\Vietnamese.txt']\n"
     ]
    }
   ],
   "source": [
    "from __future__ import unicode_literals, print_function, division # 'from __future__ ': work python2.x code like python 3.x\n",
    "\n",
    "from io import open\n",
    "import glob\n",
    "import os\n",
    "\n",
    "\n",
    "def findFiles(path):\n",
    "    return glob.glob(path) # glob.glob: Return a possibly-empty list of path names that match pathname, which must be a string containing a path specification\n",
    "\n",
    "print(findFiles(r\"C:\\Users\\LG\\Desktop\\JBNU_ISE\\GITHUB\\JBNU-2021-Summer\\Pytorch tutorial\\Text\\data\\data\\names\\*.txt\"))"
   ]
  },
  {
   "cell_type": "code",
   "execution_count": 4,
   "id": "3cf166c6-65a5-4390-b396-c91099ed2f5b",
   "metadata": {},
   "outputs": [
    {
     "name": "stdout",
     "output_type": "stream",
     "text": [
      "all_letters: abcdefghijklmnopqrstuvwxyzABCDEFGHIJKLMNOPQRSTUVWXYZ.,;''\n",
      "n_letters: 57\n"
     ]
    }
   ],
   "source": [
    "import unicodedata # provides access to the Unicode Character Database (UCD) which defines character properties for all Unicode characters\n",
    "import string\n",
    "\n",
    "all_letters = string.ascii_letters + \".,;''\" # string.ascii: The concatenation of the 'ascii_lowercase' and 'ascii_uppercase' constants described below. This value is not locale-dependent.\n",
    "n_letters = len(all_letters)\n",
    "print('all_letters:', all_letters)\n",
    "print('n_letters:', n_letters)"
   ]
  },
  {
   "cell_type": "markdown",
   "id": "c6dfac26-024b-4da5-8203-41a188848010",
   "metadata": {},
   "source": [
    "# Turn a Unicode string to plain ASCII, thanks to https://stackoverflow.com/a/518232/2809427"
   ]
  },
  {
   "cell_type": "code",
   "execution_count": 5,
   "id": "c48a13a3-0d3b-43fb-914a-6cc8961a7a3b",
   "metadata": {},
   "outputs": [
    {
     "name": "stdout",
     "output_type": "stream",
     "text": [
      "Slusarski\n"
     ]
    }
   ],
   "source": [
    "def unicodeToAscii(s):\n",
    "# join: ['a', 'b', 'c'] -> 'abc'\n",
    "    return ''.join(\n",
    "        c for c in unicodedata.normalize('NFD', s) # unicodedata.normalize: Return the normal form form for the Unicode string unistr. Valid values for form are ‘NFC’, ‘NFKC’, ‘NFD’, and ‘NFKD’.\n",
    "        if unicodedata.category(c) != 'Mn' # Returns the general category assigned to the character chr as string.\n",
    "        and c in all_letters)\n",
    "print(unicodeToAscii('Ślusàrski'))"
   ]
  },
  {
   "cell_type": "markdown",
   "id": "1fe633af-8b3b-46d6-aa4f-9a599442f0f3",
   "metadata": {},
   "source": [
    "# Build the category_lines dictionary, a list of names per language"
   ]
  },
  {
   "cell_type": "code",
   "execution_count": 6,
   "id": "9b0c14a9-a3fe-46df-ba39-23e73b6218dc",
   "metadata": {},
   "outputs": [
    {
     "name": "stdout",
     "output_type": "stream",
     "text": [
      "['Abandonato', 'Abatangelo', 'Abatantuono']\n",
      "['Arabic', 'Chinese', 'Czech', 'Dutch', 'English', 'French', 'German', 'Greek', 'Irish', 'Italian', 'Japanese', 'Korean', 'Polish', 'Portuguese', 'Russian', 'Scottish', 'Spanish', 'Vietnamese']\n"
     ]
    }
   ],
   "source": [
    "category_lines = {}\n",
    "all_categories = []\n",
    "\n",
    "# Read a file and split into lines\n",
    "def readLines(filename):\n",
    "    lines = open(filename, encoding = 'utf-8').read().strip().split('\\n')\n",
    "    return [unicodeToAscii(line) for line in lines]\n",
    "\n",
    "for filename in findFiles(r\"C:\\Users\\LG\\Desktop\\JBNU_ISE\\GITHUB\\JBNU-2021-Summer\\Pytorch tutorial\\Text\\data\\data\\names\\*.txt\"):\n",
    "    category = os.path.splitext(os.path.basename(filename))[0] # os.path.basename: Return the base name of pathname path\n",
    "    all_categories.append(category)\n",
    "    lines = readLines(filename)\n",
    "    category_lines[category] = lines\n",
    "    \n",
    "n_categories = len(all_categories)\n",
    "\n",
    "print(category_lines['Italian'][:3])\n",
    "print(all_categories)"
   ]
  },
  {
   "cell_type": "markdown",
   "id": "2b35daf9-368e-49d5-adc1-e48640897256",
   "metadata": {},
   "source": [
    "# Turning Names into Tensors"
   ]
  },
  {
   "cell_type": "code",
   "execution_count": 7,
   "id": "f1d877e1-9d0b-4c8e-a249-55123b768155",
   "metadata": {},
   "outputs": [
    {
     "name": "stdout",
     "output_type": "stream",
     "text": [
      "J: 35\n",
      "tensor([[0., 0., 0., 0., 0., 0., 0., 0., 0., 0., 0., 0., 0., 0., 0., 0., 0., 0.,\n",
      "         0., 0., 0., 0., 0., 0., 0., 0., 0., 0., 0., 0., 0., 0., 0., 0., 0., 1.,\n",
      "         0., 0., 0., 0., 0., 0., 0., 0., 0., 0., 0., 0., 0., 0., 0., 0., 0., 0.,\n",
      "         0., 0., 0.]])\n",
      "torch.Size([5, 1, 57])\n",
      "5\n",
      "tensor([[[0., 0., 0., 0., 0., 0., 0., 0., 0., 0., 0., 0., 0., 0., 0., 0., 0.,\n",
      "          0., 0., 0., 0., 0., 0., 0., 0., 0., 0., 0., 0., 0., 0., 0., 0., 0.,\n",
      "          0., 1., 0., 0., 0., 0., 0., 0., 0., 0., 0., 0., 0., 0., 0., 0., 0.,\n",
      "          0., 0., 0., 0., 0., 0.]],\n",
      "\n",
      "        [[0., 0., 0., 0., 0., 0., 0., 0., 0., 0., 0., 0., 0., 0., 1., 0., 0.,\n",
      "          0., 0., 0., 0., 0., 0., 0., 0., 0., 0., 0., 0., 0., 0., 0., 0., 0.,\n",
      "          0., 0., 0., 0., 0., 0., 0., 0., 0., 0., 0., 0., 0., 0., 0., 0., 0.,\n",
      "          0., 0., 0., 0., 0., 0.]],\n",
      "\n",
      "        [[0., 0., 0., 0., 0., 0., 0., 0., 0., 0., 0., 0., 0., 1., 0., 0., 0.,\n",
      "          0., 0., 0., 0., 0., 0., 0., 0., 0., 0., 0., 0., 0., 0., 0., 0., 0.,\n",
      "          0., 0., 0., 0., 0., 0., 0., 0., 0., 0., 0., 0., 0., 0., 0., 0., 0.,\n",
      "          0., 0., 0., 0., 0., 0.]],\n",
      "\n",
      "        [[0., 0., 0., 0., 1., 0., 0., 0., 0., 0., 0., 0., 0., 0., 0., 0., 0.,\n",
      "          0., 0., 0., 0., 0., 0., 0., 0., 0., 0., 0., 0., 0., 0., 0., 0., 0.,\n",
      "          0., 0., 0., 0., 0., 0., 0., 0., 0., 0., 0., 0., 0., 0., 0., 0., 0.,\n",
      "          0., 0., 0., 0., 0., 0.]],\n",
      "\n",
      "        [[0., 0., 0., 0., 0., 0., 0., 0., 0., 0., 0., 0., 0., 0., 0., 0., 0.,\n",
      "          0., 1., 0., 0., 0., 0., 0., 0., 0., 0., 0., 0., 0., 0., 0., 0., 0.,\n",
      "          0., 0., 0., 0., 0., 0., 0., 0., 0., 0., 0., 0., 0., 0., 0., 0., 0.,\n",
      "          0., 0., 0., 0., 0., 0.]]])\n"
     ]
    }
   ],
   "source": [
    "import torch\n",
    "\n",
    "# Find letter index from all_letters ex) \"a\" = 0\n",
    "def letterToIndex(letter):\n",
    "    return all_letters.find(letter)\n",
    "print('J:', letterToIndex('J'))\n",
    "\n",
    "def letterToTensor(letter):\n",
    "    tensor = torch.zeros(1, n_letters)\n",
    "    tensor[0][letterToIndex(letter)] = 1 \n",
    "    return tensor\n",
    "\n",
    "def lineToTensor(line):\n",
    "    tensor = torch.zeros(len(line), 1, n_letters)\n",
    "    for li, letter in enumerate(line):\n",
    "        tensor[li][0][letterToIndex(letter)] = 1\n",
    "        \n",
    "    return tensor\n",
    "\n",
    "print(letterToTensor(\"J\"))\n",
    "print(lineToTensor('Jones').size())\n",
    "print(lineToTensor('Jones').size()[0])\n",
    "print(lineToTensor('Jones'))"
   ]
  },
  {
   "cell_type": "markdown",
   "id": "7057c20c-b9fb-4f5c-96d3-29fcf4768f6b",
   "metadata": {},
   "source": [
    "# Creating the Network\n",
    "- Before autograd, creating a recurrent neural network in Torch involved cloning the parameters of a layer over several timesteps\n",
    "- RNN module: just 2 linear layers which operate on an input and hidden state, with a LogSoftmax layer after the output."
   ]
  },
  {
   "cell_type": "code",
   "execution_count": 8,
   "id": "289164eb-2cd1-4989-9974-276fb08b448c",
   "metadata": {},
   "outputs": [
    {
     "name": "stdout",
     "output_type": "stream",
     "text": [
      "tensor([[-2.9367, -2.8696, -2.9027, -2.8795, -2.9683, -2.8835, -2.8203, -2.8262,\n",
      "         -2.8703, -2.9190, -2.7647, -2.9371, -2.8856, -3.0210, -2.8925, -2.8491,\n",
      "         -2.8929, -2.9369]], grad_fn=<LogSoftmaxBackward>)\n"
     ]
    }
   ],
   "source": [
    "import torch.nn as nn\n",
    "\n",
    "class RNN(nn.Module):\n",
    "    def __init__(self, input_size, hidden_size, output_size):\n",
    "        super(RNN, self).__init__()\n",
    "        \n",
    "        self.hidden_size = hidden_size\n",
    "        \n",
    "        self.i2h = nn.Linear(input_size + hidden_size, hidden_size)\n",
    "        self.i2o = nn.Linear(input_size + hidden_size, output_size)\n",
    "        self.softmax = nn.LogSoftmax(dim = 1)\n",
    "        \n",
    "    def forward(self, input, hidden):\n",
    "        combined = torch.cat((input, hidden), 1)\n",
    "        hidden = self.i2h(combined)\n",
    "        output = self.i2o(combined)\n",
    "        output = self.softmax(output)\n",
    "        return output, hidden\n",
    "    \n",
    "    def initHidden(self):\n",
    "        return torch.zeros(1, self.hidden_size)\n",
    "    \n",
    "n_hidden = 128\n",
    "rnn = RNN(n_letters, n_hidden, n_categories)\n",
    "\n",
    "'''\n",
    "input = letterToTensor('A')\n",
    "hidden = torch.zeros(1, n_hidden)\n",
    "\n",
    "output, next_hidden = rnn(input, hidden)\n",
    "'''\n",
    "\n",
    "# For the sake of efficiency we don’t want to be creating a new Tensor for every step, so we will use lineToTensor instead of letterToTensor and use slices. \n",
    "#This could be further optimized by pre-computing batches of Tensors.\n",
    "input = lineToTensor('Albert')\n",
    "hidden = torch.zeros(1, n_hidden)\n",
    "\n",
    "output, next_hidden = rnn(input[0], hidden)\n",
    "print(output)"
   ]
  },
  {
   "cell_type": "markdown",
   "id": "6f3051bd-7cc0-42a8-8e5e-60da55d77bb5",
   "metadata": {},
   "source": [
    "# Training"
   ]
  },
  {
   "cell_type": "markdown",
   "id": "dd12704d-e2b3-4c26-88d5-52a430a95f4c",
   "metadata": {},
   "source": [
    "# MAKE helper functions \n",
    "- to interpret the output of the network, which we know to be a likelihood of each category"
   ]
  },
  {
   "cell_type": "code",
   "execution_count": 9,
   "id": "0c21e3da-a8b1-474b-ab33-c7a48283e2e8",
   "metadata": {},
   "outputs": [
    {
     "name": "stdout",
     "output_type": "stream",
     "text": [
      "('Japanese', 10)\n"
     ]
    }
   ],
   "source": [
    "def categoryFromOutput(output):\n",
    "    top_n, top_i = output.topk(1) #Tensor.topk:  to get the index of the greatest value\n",
    "    category_i = top_i[0].item()\n",
    "    return all_categories[category_i], category_i\n",
    "\n",
    "print(categoryFromOutput(output))"
   ]
  },
  {
   "cell_type": "markdown",
   "id": "ef5ae7d6-556a-4f9c-9443-11078e8ed1dd",
   "metadata": {},
   "source": [
    "# A quick way to get a training example (a name and its language)"
   ]
  },
  {
   "cell_type": "code",
   "execution_count": 10,
   "id": "997d54ff-97c5-46a4-bd94-e1d158d09421",
   "metadata": {},
   "outputs": [
    {
     "name": "stdout",
     "output_type": "stream",
     "text": [
      "category = French /line = Girard\n",
      "category = Japanese /line = Okita\n",
      "category = Korean /line = Ngai\n",
      "category = Korean /line = You\n",
      "category = Italian /line = Zambrano\n",
      "category = Russian /line = ToTheFirstPage\n",
      "category = Japanese /line = Harada\n",
      "category = Chinese /line = Man\n",
      "category = Arabic /line = Attia\n",
      "category = Russian /line = Daugule\n"
     ]
    }
   ],
   "source": [
    "import random\n",
    "\n",
    "def randomChoice(l):\n",
    "    return l[random.randint(0, len(l)-1)]\n",
    "\n",
    "def randomTrainingExample():\n",
    "    category = randomChoice(all_categories)\n",
    "    line = randomChoice(category_lines[category])\n",
    "    category_tensor = torch.tensor([all_categories.index(category)], dtype = torch.long)\n",
    "    line_tensor = lineToTensor(line)\n",
    "    return category, line, category_tensor, line_tensor\n",
    "\n",
    "for i in range(10):\n",
    "    category, line, category_tensor, line_tensor = randomTrainingExample()\n",
    "    print('category =', category, '/line =',line)"
   ]
  },
  {
   "cell_type": "markdown",
   "id": "1159fe0f-5a41-44a9-9a23-b0c8f217f179",
   "metadata": {},
   "source": [
    "# Training the Network"
   ]
  },
  {
   "cell_type": "code",
   "execution_count": 11,
   "id": "0efe2009-78f0-4bd5-af2b-65a8ccb676e6",
   "metadata": {},
   "outputs": [],
   "source": [
    "criterion = nn.NLLLoss()"
   ]
  },
  {
   "cell_type": "code",
   "execution_count": 12,
   "id": "1f70c9bf-5fce-48f8-a6b6-4a28913896c7",
   "metadata": {},
   "outputs": [
    {
     "data": {
      "text/plain": [
       "'\\nEach loop of training will:\\n\\n Create input and target tensors\\n Create a zeroed initial hidden state\\n Read each letter in and\\n    Keep hidden state for next letter\\n Compare final output to target\\n Back-propagate\\n Return the output and loss\\n'"
      ]
     },
     "execution_count": 12,
     "metadata": {},
     "output_type": "execute_result"
    }
   ],
   "source": [
    "'''\n",
    "Each loop of training will:\n",
    "\n",
    " Create input and target tensors\n",
    " Create a zeroed initial hidden state\n",
    " Read each letter in and\n",
    "    Keep hidden state for next letter\n",
    " Compare final output to target\n",
    " Back-propagate\n",
    " Return the output and loss\n",
    "'''"
   ]
  },
  {
   "cell_type": "code",
   "execution_count": 13,
   "id": "2a9a6142-6768-499c-bd37-5f70e14ec6c3",
   "metadata": {},
   "outputs": [],
   "source": [
    "learning_rate = 0.005 # you need to pick moderate one."
   ]
  },
  {
   "cell_type": "code",
   "execution_count": 14,
   "id": "6e1f25e7-14e9-4a05-9d01-3241bddd0225",
   "metadata": {},
   "outputs": [],
   "source": [
    "def train(category_tensor, line_tensor):\n",
    "    hidden = rnn.initHidden()\n",
    "    \n",
    "    rnn.zero_grad()\n",
    "    \n",
    "    for i in range(line_tensor.size()[0]):\n",
    "        output, hidden = rnn(line_tensor[i], hidden)\n",
    "        \n",
    "    loss = criterion(output, category_tensor)\n",
    "    loss.backward()\n",
    "    \n",
    "    # Add parameters' gradients to their values, multiplied by learning rate\n",
    "    for p in rnn.parameters():\n",
    "        p.data.add_(p.grad.data, alpha=-learning_rate)\n",
    "        '''\n",
    "        a = torch.tensor([[1,1],[1,1]])\n",
    "        b = torch.tensor(2)\n",
    "        c = torch.tensor(3)\n",
    "        a.add_(b,c)\n",
    "        print(a)\n",
    "        -> tensor([[7, 7],\n",
    "                  [7, 7]])\n",
    "        '''\n",
    "        return output, loss.item()"
   ]
  },
  {
   "cell_type": "code",
   "execution_count": 15,
   "id": "5720ff87-9240-4cb5-8920-6fdb545c07a8",
   "metadata": {
    "tags": []
   },
   "outputs": [
    {
     "name": "stdout",
     "output_type": "stream",
     "text": [
      "('i2h.weight', Parameter containing:\n",
      "tensor([[ 0.0703,  0.0256, -0.0187,  ..., -0.0667,  0.0208,  0.0183],\n",
      "        [ 0.0515, -0.0523, -0.0582,  ...,  0.0652,  0.0544, -0.0025],\n",
      "        [ 0.0582, -0.0339, -0.0171,  ..., -0.0482, -0.0675,  0.0584],\n",
      "        ...,\n",
      "        [-0.0267,  0.0586,  0.0455,  ...,  0.0079,  0.0381, -0.0491],\n",
      "        [-0.0154,  0.0442, -0.0307,  ..., -0.0187,  0.0308, -0.0439],\n",
      "        [-0.0012,  0.0030,  0.0220,  ..., -0.0221,  0.0497, -0.0162]],\n",
      "       requires_grad=True))\n",
      "('i2h.bias', Parameter containing:\n",
      "tensor([ 0.0618, -0.0387, -0.0216,  0.0690, -0.0691, -0.0346, -0.0654, -0.0355,\n",
      "        -0.0482,  0.0384, -0.0120,  0.0453,  0.0227, -0.0351, -0.0360,  0.0045,\n",
      "        -0.0017, -0.0012, -0.0309, -0.0699, -0.0571, -0.0100, -0.0642,  0.0207,\n",
      "         0.0023,  0.0607, -0.0044, -0.0019, -0.0043, -0.0549,  0.0530,  0.0382,\n",
      "         0.0109,  0.0590,  0.0205, -0.0218, -0.0707,  0.0322, -0.0318,  0.0373,\n",
      "        -0.0418,  0.0507,  0.0253,  0.0467,  0.0589, -0.0463, -0.0376, -0.0551,\n",
      "        -0.0440, -0.0299,  0.0515,  0.0660,  0.0672,  0.0013,  0.0572, -0.0441,\n",
      "         0.0528, -0.0621,  0.0217,  0.0656,  0.0109, -0.0245,  0.0660, -0.0301,\n",
      "         0.0323,  0.0580,  0.0290, -0.0236,  0.0298,  0.0609, -0.0118, -0.0430,\n",
      "        -0.0125, -0.0642, -0.0033, -0.0616,  0.0475,  0.0652,  0.0014, -0.0551,\n",
      "         0.0379,  0.0469,  0.0515,  0.0067,  0.0138,  0.0453, -0.0340, -0.0392,\n",
      "         0.0400, -0.0690, -0.0353,  0.0381,  0.0259,  0.0562, -0.0734,  0.0524,\n",
      "        -0.0044,  0.0151,  0.0417,  0.0015, -0.0124,  0.0559,  0.0259, -0.0699,\n",
      "         0.0308, -0.0063,  0.0060, -0.0119,  0.0394,  0.0058, -0.0062,  0.0414,\n",
      "         0.0163, -0.0342,  0.0436,  0.0109, -0.0262, -0.0422, -0.0406,  0.0233,\n",
      "         0.0126, -0.0529,  0.0467,  0.0614, -0.0682, -0.0440,  0.0317,  0.0273],\n",
      "       requires_grad=True))\n",
      "('i2o.weight', Parameter containing:\n",
      "tensor([[-5.0817e-02,  3.2197e-02, -1.9246e-02,  ...,  3.6808e-02,\n",
      "         -2.8772e-02, -6.6017e-02],\n",
      "        [-5.9987e-02, -2.7944e-02, -6.1223e-02,  ...,  6.3507e-02,\n",
      "          1.4488e-02,  2.8578e-02],\n",
      "        [ 2.0704e-02,  5.9532e-02, -1.2517e-02,  ..., -5.9776e-02,\n",
      "          2.0286e-02, -1.4478e-02],\n",
      "        ...,\n",
      "        [-2.5586e-02,  7.0516e-02,  5.3243e-02,  ..., -2.3869e-02,\n",
      "         -6.2522e-02,  1.2294e-02],\n",
      "        [-5.4834e-02,  4.5463e-05, -2.5143e-02,  ...,  3.8698e-02,\n",
      "         -3.3610e-02,  3.9020e-02],\n",
      "        [-1.3159e-02,  8.6556e-03,  2.0034e-02,  ..., -4.6410e-03,\n",
      "          8.8978e-04,  2.5478e-02]], requires_grad=True))\n",
      "('i2o.bias', Parameter containing:\n",
      "tensor([-0.0492, -0.0327, -0.0360, -0.0006, -0.0440,  0.0276, -0.0025,  0.0035,\n",
      "         0.0314, -0.0650,  0.0562, -0.0542,  0.0591, -0.0677,  0.0514,  0.0392,\n",
      "         0.0337, -0.0254], requires_grad=True))\n"
     ]
    }
   ],
   "source": [
    "for p in rnn.named_parameters():\n",
    "        print(p)"
   ]
  },
  {
   "cell_type": "markdown",
   "id": "a07aa0f9-487a-462f-bb4c-4b2b6134502b",
   "metadata": {},
   "source": [
    "# Run that with a bunch of examples"
   ]
  },
  {
   "cell_type": "code",
   "execution_count": 16,
   "id": "26afe265-10d3-4866-869d-2385bfe47945",
   "metadata": {},
   "outputs": [
    {
     "name": "stdout",
     "output_type": "stream",
     "text": [
      "5000 5% (0m 8s) 2.9046 Gro / Spanish ✗ (German)\n",
      "10000 10% (0m 16s) 2.7001 Blanchet / Greek ✗ (French)\n",
      "15000 15% (0m 24s) 2.7520 Judasin / Polish ✗ (Russian)\n",
      "20000 20% (0m 33s) 2.6147 Hong / Chinese ✗ (Korean)\n",
      "25000 25% (0m 42s) 2.5243 Kalb / Japanese ✗ (Arabic)\n",
      "30000 30% (0m 52s) 2.7094 Moreno / Italian ✗ (Portuguese)\n",
      "35000 35% (1m 1s) 2.6112 Pei / German ✗ (Chinese)\n",
      "40000 40% (1m 9s) 1.2329 Majewski / Polish ✓\n",
      "45000 45% (1m 18s) 3.3700 Pear / Chinese ✗ (Czech)\n",
      "50000 50% (1m 27s) 2.5043 Thornes / Czech ✗ (English)\n",
      "55000 55% (1m 36s) 2.8473 Fausti / Arabic ✗ (Italian)\n",
      "60000 60% (1m 44s) 1.8699 Zhidkikh / Japanese ✗ (Russian)\n",
      "65000 65% (1m 53s) 2.0357 Hovanec / Portuguese ✗ (Czech)\n",
      "70000 70% (2m 1s) 2.0963 Groer / German ✓\n",
      "75000 75% (2m 10s) 0.2866 Sadowski / Polish ✓\n",
      "80000 80% (2m 18s) 2.8759 Carey / Portuguese ✗ (Irish)\n",
      "85000 85% (2m 27s) 2.7562 Vescovi / English ✗ (Italian)\n",
      "90000 90% (2m 36s) 1.9361 Angioli / Portuguese ✗ (Italian)\n",
      "95000 95% (2m 44s) 2.9523 Ma / Korean ✗ (Vietnamese)\n",
      "100000 100% (2m 53s) 1.3476 Millar / Scottish ✓\n"
     ]
    }
   ],
   "source": [
    "import time\n",
    "import math\n",
    "\n",
    "n_iters = 100000\n",
    "print_every = 5000\n",
    "plot_every = 1000\n",
    "\n",
    "# Kepp track of losses for plotting\n",
    "current_loss = 0\n",
    "all_losses = []\n",
    "\n",
    "def timeSince(since):\n",
    "    now = time.time()\n",
    "    s = now - since\n",
    "    m = math.floor(s/60) # math.floor: return less than or equal to a specified number\n",
    "    s -= m * 60\n",
    "    return '%dm %ds' % (m,s)\n",
    "\n",
    "start = time.time()\n",
    "\n",
    "for iter in range(1, n_iters + 1):\n",
    "    category, line, category_tensor, line_tensor = randomTrainingExample()\n",
    "    output, loss = train(category_tensor, line_tensor)\n",
    "    current_loss += loss\n",
    "    \n",
    "    # Print iter number, loss, name and guess\n",
    "    if iter % print_every == 0:\n",
    "        guess, guess_i = categoryFromOutput(output)\n",
    "        correct = '✓' if guess == category else '✗ (%s)' % category\n",
    "        '''\n",
    "        if guess == category:\n",
    "            correct = '✓'\n",
    "        else: 'X (%s)' % category\n",
    "        '''\n",
    "        print('%d %d%% (%s) %.4f %s / %s %s' % (iter, iter / n_iters * 100, timeSince(start), loss, line, guess, correct))\n",
    "        \n",
    "    # Add current loss avg to list of losses\n",
    "    if iter % plot_every == 0:\n",
    "        all_losses.append(current_loss / plot_every)\n",
    "        current_loss = 0"
   ]
  },
  {
   "cell_type": "markdown",
   "id": "41d897dc-0654-4e7b-9d77-b8931df86bf7",
   "metadata": {},
   "source": [
    "# Plotting the Results"
   ]
  },
  {
   "cell_type": "code",
   "execution_count": 17,
   "id": "66e4fee6-2050-4baf-a8a7-065f46d13276",
   "metadata": {},
   "outputs": [
    {
     "data": {
      "text/plain": [
       "[<matplotlib.lines.Line2D at 0x1a82cc08940>]"
      ]
     },
     "execution_count": 17,
     "metadata": {},
     "output_type": "execute_result"
    },
    {
     "data": {
      "image/png": "[encoded data removed]",
      "text/plain": [
       "<Figure size 432x288 with 1 Axes>"
      ]
     },
     "metadata": {
      "needs_background": "light"
     },
     "output_type": "display_data"
    }
   ],
   "source": [
    "import matplotlib.pyplot as plt\n",
    "import matplotlib.ticker as ticker\n",
    "\n",
    "plt.figure()\n",
    "plt.plot(all_losses)"
   ]
  },
  {
   "cell_type": "markdown",
   "id": "7964cddd-5190-44a6-9770-5aa2ad8e3dc9",
   "metadata": {},
   "source": [
    "# Evaluating the Results"
   ]
  },
  {
   "cell_type": "code",
   "execution_count": 19,
   "id": "7226e695-3269-43ae-9048-6904c5ef4927",
   "metadata": {},
   "outputs": [
    {
     "name": "stderr",
     "output_type": "stream",
     "text": [
      "<ipython-input-19-d05b49428171>:33: UserWarning: FixedFormatter should only be used together with FixedLocator\n",
      "  ax.set_xticklabels([''] + all_categories, rotation = 90)\n",
      "<ipython-input-19-d05b49428171>:34: UserWarning: FixedFormatter should only be used together with FixedLocator\n",
      "  ax.set_yticklabels([''] + all_categories)\n"
     ]
    },
    {
     "data": {
      "image/png": "[encoded data removed]",
      "text/plain": [
       "<Figure size 432x288 with 2 Axes>"
      ]
     },
     "metadata": {
      "needs_background": "light"
     },
     "output_type": "display_data"
    }
   ],
   "source": [
    "# keep track of correct guesses in a confusion matrix\n",
    "confusion = torch.zeros(n_categories, n_categories)\n",
    "n_confusion = 10000\n",
    "\n",
    "# Just return an output given a line\n",
    "def evaluate(line_tensor):\n",
    "    hidden = rnn.initHidden()\n",
    "    \n",
    "    for i in range(line_tensor.size()[0]):\n",
    "        output, hidden = rnn(line_tensor[i], hidden)\n",
    "        \n",
    "    return output\n",
    "\n",
    "# Go through a bunch of examples and record which are correctly guessed\n",
    "for i in range(n_confusion):\n",
    "    category, line, category_tensor, line_tensor = randomTrainingExample()\n",
    "    output = evaluate(line_tensor)\n",
    "    guess, guess_i = categoryFromOutput(output)\n",
    "    category_i = all_categories.index(category)\n",
    "    confusion[category_i][guess_i] += 1\n",
    "    \n",
    "# Normalize by dividing every row by its sum\n",
    "for i in range(n_categories):\n",
    "    confusion[i] = confusion[i] / confusion[i].sum()\n",
    "    \n",
    "# Set up plot\n",
    "fig = plt.figure()\n",
    "ax = fig.add_subplot(111)\n",
    "cax = ax.matshow(confusion.numpy())\n",
    "fig.colorbar(cax)\n",
    "\n",
    "# Set up axes\n",
    "ax.set_xticklabels([''] + all_categories, rotation = 90)\n",
    "ax.set_yticklabels([''] + all_categories)\n",
    "\n",
    "# Force label at every tick\n",
    "ax.xaxis.set_major_locator(ticker.MultipleLocator(1))\n",
    "ax.yaxis.set_major_locator(ticker.MultipleLocator(1))\n",
    "\n",
    "# sphinx_gallery_thumbnail_number = 2\n",
    "plt.show()"
   ]
  },
  {
   "cell_type": "markdown",
   "id": "e088e0e2-3651-42c4-a723-615630a6160b",
   "metadata": {},
   "source": [
    "# Running on User Input"
   ]
  },
  {
   "cell_type": "code",
   "execution_count": 21,
   "id": "af7a1997-5e84-4fc6-b0ab-3478b6023a07",
   "metadata": {},
   "outputs": [
    {
     "name": "stdout",
     "output_type": "stream",
     "text": [
      "\n",
      "> Dovesky\n",
      "(-1.53) Russian\n",
      "(-1.74) Czech\n",
      "(-2.02) Polish\n",
      "\n",
      "> Jackson\n",
      "(-0.69) Scottish\n",
      "(-2.06) Russian\n",
      "(-2.43) English\n",
      "\n",
      "> Woo\n",
      "(-1.62) Korean\n",
      "(-2.10) Chinese\n",
      "(-2.45) Scottish\n"
     ]
    }
   ],
   "source": [
    "def predict(input_line, n_predictions = 3 ):\n",
    "    print('\\n> %s' % input_line)\n",
    "    \n",
    "    with torch.no_grad():\n",
    "        output = evaluate(lineToTensor(input_line))\n",
    "        \n",
    "        # Get top N categories\n",
    "        topv, topi = output.topk(n_predictions, 1, True)\n",
    "        predictions = []\n",
    "        \n",
    "        for i in range(n_predictions):\n",
    "            value = topv[0][i].item()\n",
    "            category_index = topi[0][i].item()\n",
    "            \n",
    "            print('(%.2f) %s' % (value, all_categories[category_index]))\n",
    "            predictions.append([value, all_categories[category_index]])\n",
    "\n",
    "predict('Dovesky')\n",
    "predict('Jackson')\n",
    "predict('Woo')"
   ]
  },
  {
   "cell_type": "code",
   "execution_count": 22,
   "id": "020c5f91-453c-4d13-aca0-50a75718f173",
   "metadata": {},
   "outputs": [
    {
     "name": "stdout",
     "output_type": "stream",
     "text": [
      "\n",
      "> Dovesky\n",
      "(-1.53) Russian\n",
      "(-1.74) Czech\n",
      "(-2.02) Polish\n",
      "\n",
      "> Jackson\n",
      "(-0.69) Scottish\n",
      "(-2.06) Russian\n",
      "(-2.43) English\n",
      "\n",
      "> Satoshi\n",
      "(-0.99) Polish\n",
      "(-2.04) Arabic\n",
      "(-2.17) Scottish\n"
     ]
    }
   ],
   "source": [
    "def predict(input_line, n_predictions=3):\n",
    "    print('\\n> %s' % input_line)\n",
    "    with torch.no_grad():\n",
    "        output = evaluate(lineToTensor(input_line))\n",
    "\n",
    "        # Get top N categories\n",
    "        topv, topi = output.topk(n_predictions, 1, True)\n",
    "        predictions = []\n",
    "\n",
    "        for i in range(n_predictions):\n",
    "            value = topv[0][i].item()\n",
    "            category_index = topi[0][i].item()\n",
    "            print('(%.2f) %s' % (value, all_categories[category_index]))\n",
    "            predictions.append([value, all_categories[category_index]])\n",
    "\n",
    "predict('Dovesky')\n",
    "predict('Jackson')\n",
    "predict('Satoshi')"
   ]
  },
  {
   "cell_type": "code",
   "execution_count": null,
   "id": "d241a703-862f-4689-a6ec-a4aeb0f52a61",
   "metadata": {},
   "outputs": [],
   "source": []
  },
  {
   "cell_type": "code",
   "execution_count": null,
   "id": "fed9b4b2-bd30-4df7-b6c5-b0e279ac36a2",
   "metadata": {},
   "outputs": [],
   "source": []
  },
  {
   "cell_type": "code",
   "execution_count": null,
   "id": "0b2e293e-6c48-4b4d-ac24-3cc26713eba3",
   "metadata": {},
   "outputs": [],
   "source": []
  },
  {
   "cell_type": "code",
   "execution_count": null,
   "id": "f653558d-f66f-446e-b787-f6089a15aecd",
   "metadata": {},
   "outputs": [],
   "source": []
  },
  {
   "cell_type": "code",
   "execution_count": null,
   "id": "8e96b998-37e6-4680-b1e9-a6ebd010d968",
   "metadata": {},
   "outputs": [],
   "source": []
  },
  {
   "cell_type": "code",
   "execution_count": null,
   "id": "f78a613e-e0df-41e2-8307-65674074c56e",
   "metadata": {},
   "outputs": [],
   "source": []
  },
  {
   "cell_type": "code",
   "execution_count": null,
   "id": "1f9ca573-b80b-4f80-8c91-99d3b8ac0dfa",
   "metadata": {},
   "outputs": [],
   "source": []
  },
  {
   "cell_type": "code",
   "execution_count": null,
   "id": "a4c2f67b-0ce5-4f83-a8c2-b32e69e9ea2a",
   "metadata": {},
   "outputs": [],
   "source": []
  },
  {
   "cell_type": "code",
   "execution_count": null,
   "id": "4c51ce5d-c291-4126-b4bf-3d698593d30c",
   "metadata": {},
   "outputs": [],
   "source": []
  }
 ],
 "metadata": {
  "kernelspec": {
   "display_name": "Python 3",
   "language": "python",
   "name": "python3"
  },
  "language_info": {
   "codemirror_mode": {
    "name": "ipython",
    "version": 3
   },
   "file_extension": ".py",
   "mimetype": "text/x-python",
   "name": "python",
   "nbconvert_exporter": "python",
   "pygments_lexer": "ipython3",
   "version": "3.8.8"
  }
 },
 "nbformat": 4,
 "nbformat_minor": 5
}
