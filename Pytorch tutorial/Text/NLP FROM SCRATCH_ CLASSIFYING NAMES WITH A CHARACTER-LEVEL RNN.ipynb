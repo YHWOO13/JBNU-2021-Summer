{
 "cells": [
  {
   "cell_type": "code",
   "execution_count": 1,
   "id": "29fc184e-58af-4231-86bb-810d541cd5df",
   "metadata": {},
   "outputs": [
    {
     "data": {
      "text/plain": [
       "' \\n Author: Yoonhyuck WOO / JBNU_Industrial Information system Engineering\\n Date; 10. 11. 2021 - 11. 13. 2021\\n Title: Artificial Intelligence_Project 2\\n Professor: Seung-Hoon Na\\n Reference: https://cpm0722.github.io/pytorch-implementation/transformer\\n            https://pytorch.org/tutorials/beginner/transformer_tutorial.html'"
      ]
     },
     "execution_count": 1,
     "metadata": {},
     "output_type": "execute_result"
    }
   ],
   "source": [
    "''' \n",
    " Author: Yoonhyuck WOO / JBNU_Industrial Information system Engineering\n",
    " Date; 10. 11. 2021 - 11. 13. 2021\n",
    " Title: Artificial Intelligence_Project 2\n",
    " Professor: Seung-Hoon Na\n",
    " Reference: https://pytorch.org/tutorials/intermediate/char_rnn_classification_tutorial.html'''"
   ]
  },
  {
   "cell_type": "code",
   "execution_count": 24,
   "id": "d779ec46-f5d8-49fe-89e8-cfdee2f42d9d",
   "metadata": {},
   "outputs": [
    {
     "name": "stdout",
     "output_type": "stream",
     "text": [
      "['C:\\\\Users\\\\LG\\\\Desktop\\\\JBNU_ISE\\\\GITHUB\\\\JBNU-2021-Summer\\\\Pytorch tutorial\\\\Text\\\\data\\\\data\\\\names\\\\Arabic.txt', 'C:\\\\Users\\\\LG\\\\Desktop\\\\JBNU_ISE\\\\GITHUB\\\\JBNU-2021-Summer\\\\Pytorch tutorial\\\\Text\\\\data\\\\data\\\\names\\\\Chinese.txt', 'C:\\\\Users\\\\LG\\\\Desktop\\\\JBNU_ISE\\\\GITHUB\\\\JBNU-2021-Summer\\\\Pytorch tutorial\\\\Text\\\\data\\\\data\\\\names\\\\Czech.txt', 'C:\\\\Users\\\\LG\\\\Desktop\\\\JBNU_ISE\\\\GITHUB\\\\JBNU-2021-Summer\\\\Pytorch tutorial\\\\Text\\\\data\\\\data\\\\names\\\\Dutch.txt', 'C:\\\\Users\\\\LG\\\\Desktop\\\\JBNU_ISE\\\\GITHUB\\\\JBNU-2021-Summer\\\\Pytorch tutorial\\\\Text\\\\data\\\\data\\\\names\\\\English.txt', 'C:\\\\Users\\\\LG\\\\Desktop\\\\JBNU_ISE\\\\GITHUB\\\\JBNU-2021-Summer\\\\Pytorch tutorial\\\\Text\\\\data\\\\data\\\\names\\\\French.txt', 'C:\\\\Users\\\\LG\\\\Desktop\\\\JBNU_ISE\\\\GITHUB\\\\JBNU-2021-Summer\\\\Pytorch tutorial\\\\Text\\\\data\\\\data\\\\names\\\\German.txt', 'C:\\\\Users\\\\LG\\\\Desktop\\\\JBNU_ISE\\\\GITHUB\\\\JBNU-2021-Summer\\\\Pytorch tutorial\\\\Text\\\\data\\\\data\\\\names\\\\Greek.txt', 'C:\\\\Users\\\\LG\\\\Desktop\\\\JBNU_ISE\\\\GITHUB\\\\JBNU-2021-Summer\\\\Pytorch tutorial\\\\Text\\\\data\\\\data\\\\names\\\\Irish.txt', 'C:\\\\Users\\\\LG\\\\Desktop\\\\JBNU_ISE\\\\GITHUB\\\\JBNU-2021-Summer\\\\Pytorch tutorial\\\\Text\\\\data\\\\data\\\\names\\\\Italian.txt', 'C:\\\\Users\\\\LG\\\\Desktop\\\\JBNU_ISE\\\\GITHUB\\\\JBNU-2021-Summer\\\\Pytorch tutorial\\\\Text\\\\data\\\\data\\\\names\\\\Japanese.txt', 'C:\\\\Users\\\\LG\\\\Desktop\\\\JBNU_ISE\\\\GITHUB\\\\JBNU-2021-Summer\\\\Pytorch tutorial\\\\Text\\\\data\\\\data\\\\names\\\\Korean.txt', 'C:\\\\Users\\\\LG\\\\Desktop\\\\JBNU_ISE\\\\GITHUB\\\\JBNU-2021-Summer\\\\Pytorch tutorial\\\\Text\\\\data\\\\data\\\\names\\\\Polish.txt', 'C:\\\\Users\\\\LG\\\\Desktop\\\\JBNU_ISE\\\\GITHUB\\\\JBNU-2021-Summer\\\\Pytorch tutorial\\\\Text\\\\data\\\\data\\\\names\\\\Portuguese.txt', 'C:\\\\Users\\\\LG\\\\Desktop\\\\JBNU_ISE\\\\GITHUB\\\\JBNU-2021-Summer\\\\Pytorch tutorial\\\\Text\\\\data\\\\data\\\\names\\\\Russian.txt', 'C:\\\\Users\\\\LG\\\\Desktop\\\\JBNU_ISE\\\\GITHUB\\\\JBNU-2021-Summer\\\\Pytorch tutorial\\\\Text\\\\data\\\\data\\\\names\\\\Scottish.txt', 'C:\\\\Users\\\\LG\\\\Desktop\\\\JBNU_ISE\\\\GITHUB\\\\JBNU-2021-Summer\\\\Pytorch tutorial\\\\Text\\\\data\\\\data\\\\names\\\\Spanish.txt', 'C:\\\\Users\\\\LG\\\\Desktop\\\\JBNU_ISE\\\\GITHUB\\\\JBNU-2021-Summer\\\\Pytorch tutorial\\\\Text\\\\data\\\\data\\\\names\\\\Vietnamese.txt']\n"
     ]
    }
   ],
   "source": [
    "from __future__ import unicode_literals, print_function, division # 'from __future__ ': work python2.x code like python 3.x\n",
    "\n",
    "from io import open\n",
    "import glob\n",
    "import os\n",
    "\n",
    "\n",
    "def findFiles(path):\n",
    "    return glob.glob(path) # glob.glob: Return a possibly-empty list of path names that match pathname, which must be a string containing a path specification\n",
    "\n",
    "print(findFiles(r\"C:\\Users\\LG\\Desktop\\JBNU_ISE\\GITHUB\\JBNU-2021-Summer\\Pytorch tutorial\\Text\\data\\data\\names\\*.txt\"))"
   ]
  },
  {
   "cell_type": "code",
   "execution_count": 25,
   "id": "3cf166c6-65a5-4390-b396-c91099ed2f5b",
   "metadata": {},
   "outputs": [
    {
     "name": "stdout",
     "output_type": "stream",
     "text": [
      "Slusarski\n"
     ]
    }
   ],
   "source": [
    "import unicodedata # provides access to the Unicode Character Database (UCD) which defines character properties for all Unicode characters\n",
    "import string\n",
    "\n",
    "all_letters = string.ascii_letters + \".,;''\" # string.ascii: The concatenation of the ascii_lowercase and ascii_uppercase constants described below. This value is not locale-dependent.\n",
    "n_letters = len(all_letters)"
   ]
  },
  {
   "cell_type": "markdown",
   "id": "c6dfac26-024b-4da5-8203-41a188848010",
   "metadata": {},
   "source": [
    "# Turn a Unicode string to plain ASCII, thanks to https://stackoverflow.com/a/518232/2809427"
   ]
  },
  {
   "cell_type": "code",
   "execution_count": 26,
   "id": "c48a13a3-0d3b-43fb-914a-6cc8961a7a3b",
   "metadata": {},
   "outputs": [
    {
     "name": "stdout",
     "output_type": "stream",
     "text": [
      "Slusarski\n"
     ]
    }
   ],
   "source": [
    "def unicodeToAscii(s):\n",
    "# join: ['a', 'b', 'c'] -> 'abc'\n",
    "    return ''.join(\n",
    "        c for c in unicodedata.normalize('NFD', s) # unicodedata.normalize: Return the normal form form for the Unicode string unistr. Valid values for form are ‘NFC’, ‘NFKC’, ‘NFD’, and ‘NFKD’.\n",
    "        if unicodedata.category(c) != 'Mn' # Returns the general category assigned to the character chr as string.\n",
    "        and c in all_letters)\n",
    "print(unicodeToAscii('Ślusàrski'))"
   ]
  },
  {
   "cell_type": "markdown",
   "id": "1fe633af-8b3b-46d6-aa4f-9a599442f0f3",
   "metadata": {},
   "source": [
    "# Build the category_lines dictionary, a list of names per language"
   ]
  },
  {
   "cell_type": "code",
   "execution_count": 35,
   "id": "9b0c14a9-a3fe-46df-ba39-23e73b6218dc",
   "metadata": {},
   "outputs": [
    {
     "name": "stdout",
     "output_type": "stream",
     "text": [
      "['Abandonato', 'Abatangelo', 'Abatantuono']\n",
      "['Arabic', 'Chinese', 'Czech', 'Dutch', 'English', 'French', 'German', 'Greek', 'Irish', 'Italian', 'Japanese', 'Korean', 'Polish', 'Portuguese', 'Russian', 'Scottish', 'Spanish', 'Vietnamese']\n"
     ]
    }
   ],
   "source": [
    "category_lines = {}\n",
    "all_categories = []\n",
    "\n",
    "# Read a file and split into lines\n",
    "def readLines(filename):\n",
    "    lines = open(filename, encoding = 'utf-8').read().strip().split('\\n')\n",
    "    return [unicodeToAscii(line) for line in lines]\n",
    "\n",
    "for filename in findFiles(r\"C:\\Users\\LG\\Desktop\\JBNU_ISE\\GITHUB\\JBNU-2021-Summer\\Pytorch tutorial\\Text\\data\\data\\names\\*.txt\"):\n",
    "    category = os.path.splitext(os.path.basename(filename))[0] # os.path.basename: Return the base name of pathname path\n",
    "    all_categories.append(category)\n",
    "    lines = readLines(filename)\n",
    "    category_lines[category] = lines\n",
    "    \n",
    "n_categories = len(all_categories)\n",
    "\n",
    "print(category_lines['Italian'][:3])\n",
    "print(all_categories)"
   ]
  },
  {
   "cell_type": "code",
   "execution_count": null,
   "id": "ae36d6e7-7ad5-4a56-a3f2-ab6f52c5d890",
   "metadata": {},
   "outputs": [],
   "source": []
  },
  {
   "cell_type": "code",
   "execution_count": null,
   "id": "f1d877e1-9d0b-4c8e-a249-55123b768155",
   "metadata": {},
   "outputs": [],
   "source": []
  },
  {
   "cell_type": "code",
   "execution_count": null,
   "id": "6e321977-11df-478f-9433-03f610d072fb",
   "metadata": {},
   "outputs": [],
   "source": []
  },
  {
   "cell_type": "code",
   "execution_count": null,
   "id": "289164eb-2cd1-4989-9974-276fb08b448c",
   "metadata": {},
   "outputs": [],
   "source": []
  },
  {
   "cell_type": "code",
   "execution_count": null,
   "id": "71245502-3aeb-4f74-95ea-b8b68d27f475",
   "metadata": {},
   "outputs": [],
   "source": []
  },
  {
   "cell_type": "code",
   "execution_count": null,
   "id": "09e15d7c-97ee-4f20-826b-a7cecba70163",
   "metadata": {},
   "outputs": [],
   "source": []
  }
 ],
 "metadata": {
  "kernelspec": {
   "display_name": "Python 3",
   "language": "python",
   "name": "python3"
  },
  "language_info": {
   "codemirror_mode": {
    "name": "ipython",
    "version": 3
   },
   "file_extension": ".py",
   "mimetype": "text/x-python",
   "name": "python",
   "nbconvert_exporter": "python",
   "pygments_lexer": "ipython3",
   "version": "3.8.8"
  }
 },
 "nbformat": 4,
 "nbformat_minor": 5
}
