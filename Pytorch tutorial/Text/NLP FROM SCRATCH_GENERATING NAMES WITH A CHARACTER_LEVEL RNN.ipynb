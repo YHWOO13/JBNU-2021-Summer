{
 "cells": [
  {
   "cell_type": "code",
   "execution_count": 1,
   "id": "fcf28ff7-2234-415f-bb56-6c53e3361749",
   "metadata": {},
   "outputs": [
    {
     "data": {
      "text/plain": [
       "' \\n Author: Yoonhyuck WOO / JBNU_Industrial Information system Engineering\\n Date; 10. 15. 2021 - 10. . 2021\\n Title: Pytorch tutorial: Follow [Text] part code\\n Professor: Seung-Hoon Na\\n Reference: https://pytorch.org/tutorials/intermediate/char_rnn_generation_tutorial.html'"
      ]
     },
     "execution_count": 1,
     "metadata": {},
     "output_type": "execute_result"
    }
   ],
   "source": [
    "''' \n",
    " Author: Yoonhyuck WOO / JBNU_Industrial Information system Engineering\n",
    " Date; 10. 15. 2021 - 10. . 2021\n",
    " Title: Pytorch tutorial: Follow [Text] part code\n",
    " Professor: Seung-Hoon Na\n",
    " Reference: https://pytorch.org/tutorials/intermediate/char_rnn_generation_tutorial.html'''"
   ]
  },
  {
   "cell_type": "code",
   "execution_count": 3,
   "id": "634047d4-011a-443f-aab1-841e52336528",
   "metadata": {},
   "outputs": [
    {
     "name": "stdout",
     "output_type": "stream",
     "text": [
      "['Arabic', 'Chinese', 'Czech', 'Dutch', 'English', 'French', 'German', 'Greek', 'Irish', 'Italian', 'Japanese', 'Korean', 'Polish', 'Portuguese', 'Russian', 'Scottish', 'Spanish', 'Vietnamese']\n"
     ]
    }
   ],
   "source": [
    "print(all_categories) #index ~ 17"
   ]
  },
  {
   "cell_type": "markdown",
   "id": "ecc0a5de-7e50-4e3f-9761-c174caf2a564",
   "metadata": {},
   "source": [
    "# Creating the Network"
   ]
  },
  {
   "cell_type": "code",
   "execution_count": 4,
   "id": "64610af1-bde9-4615-b1db-4ccffd9866a3",
   "metadata": {},
   "outputs": [],
   "source": [
    "import torch\n",
    "import torch.nn as nn\n",
    "\n",
    "class RNN(nn.Module):\n",
    "    def __init__(self, input_size, hidden_size, output_size):\n",
    "        super(RNN, self).__init__()\n",
    "        self.hidden_size = hidden_size\n",
    "        self.i2h = nn.Linear(n_categories + input_size + hidden_size, hidden_size)\n",
    "        self.i2o = nn.Linear(n_categories + input_size + hidden_size, output_size)\n",
    "        self.o2o = nn.Linear(hidden_size + output_size, output_size)\n",
    "        self.dropout = nn.Dropout(0.1)\n",
    "        self.softmax = nn.LogSoftmax(dim = 1)\n",
    "        \n",
    "    def forward(self, category, input, hidden):\n",
    "        input_combined = torch.cat((category, input, hidden), 1) # 1 => horizontally / 0 => vertically\n",
    "        hidden = self.i2h(input_combined) # size: input_combined X hidden_size \n",
    "        output = self.i2o(input_combined) # size: input_combined X output_size\n",
    "        output_combined = torch.cat((hidden, output), 1)\n",
    "        output = self.o2o(output_combined)\n",
    "        output = self.dropout(output)\n",
    "        output = self.softmax(output)\n",
    "        return output, hidden\n",
    "        '''\n",
    "        ex\n",
    "        m = nn.Linear(20, 30) \n",
    "        input = torch.randn(128, 20) \n",
    "        output = m(input) \n",
    "        print(output.size())\n",
    "        torch.Size([128, 30])\n",
    "        '''\n",
    "    # For every epoch, we should re-initialize a new beginner hidden state, \n",
    "    # because during the testing, our model will have no information about the test sentence and will have a zero initial hidden state.    \n",
    "    def initHidden(self):\n",
    "        return torch.zeros(1, self.hidden_size)"
   ]
  },
  {
   "cell_type": "markdown",
   "id": "a73cdc1b-a49d-4c08-9c0e-045d9a0fad82",
   "metadata": {},
   "source": [
    "# Training"
   ]
  },
  {
   "cell_type": "markdown",
   "id": "6a308602-7354-4a4c-9817-a6314ec54fc6",
   "metadata": {},
   "source": [
    "# Preparing for Training\n",
    "- helper functions to get random pairs of (category, line)"
   ]
  },
  {
   "cell_type": "code",
   "execution_count": 5,
   "id": "d402ffa1-1b9a-42d0-8dd8-6a6ff7040165",
   "metadata": {},
   "outputs": [
    {
     "data": {
      "text/plain": [
       "('Scottish', 'Sutherland')"
      ]
     },
     "execution_count": 5,
     "metadata": {},
     "output_type": "execute_result"
    }
   ],
   "source": [
    "import random\n",
    "\n",
    "# Random item from a list\n",
    "def randomChoice(l):\n",
    "    return l[random.randint(0, len(l) - 1)]\n",
    "\n",
    "# Get a random category and random line from that category\n",
    "def randomTrainingPair():\n",
    "    category = randomChoice(all_categories)\n",
    "    '''\n",
    "    all category: ['Arabic', 'Chinese', 'Czech', 'Dutch', 'English', 'French', 'German', 'Greek', 'Irish', \n",
    "                   'Italian', 'Japanese', 'Korean', 'Polish', 'Portuguese', 'Russian', 'Scottish', 'Spanish', 'Vietnamese']\n",
    "    '''\n",
    "    line = randomChoice(category_lines[category])\n",
    "    return category, line\n",
    "\n",
    "randomTrainingPair()"
   ]
  },
  {
   "cell_type": "markdown",
   "id": "f9c9da5d-d95a-4ffc-aaf7-9a102b13a6ec",
   "metadata": {},
   "source": [
    "# For each timestep (== for each letter in a training word) \n",
    "- the inputs of the network: (category, current letter, hidden state)\n",
    "- the outputs:               (next letter, next hidden state). \n",
    "- So for each training set, need the category, a set of input letters, and a set of output/target letters.\n",
    "\n",
    "- predicting the next letter from the current letter for each timestep, the letter pairs are groups of consecutive letters from the line\n",
    "- e.g. for \"ABCD<EOS>\" we would create (“A”, “B”), (“B”, “C”), (“C”, “D”), (“D”, “EOS”)\n",
    "\n",
    "category tensor: one-hot tensor of size <1 x n_categories>. \n",
    "\n",
    "When training we feed it to the network at every timestep - this is a design choice, it could have been included as part of initial hidden state or some other strategy."
   ]
  },
  {
   "cell_type": "raw",
   "id": "c25045b6-3337-4aaa-a97d-68f0ff08f816",
   "metadata": {},
   "source": [
    "'''\n",
    "Input K a s p a r o v\n",
    "      a s p a r o v EOS Output\n",
    "'''"
   ]
  },
  {
   "cell_type": "code",
   "execution_count": 6,
   "id": "13b1f7e8-de7b-4a4a-9812-ffac49f4e627",
   "metadata": {},
   "outputs": [],
   "source": [
    "# One - hot vector for category\n",
    "def categoryTensor(category):\n",
    "    li = all_categories.index(category)\n",
    "    tensor = torch.zeros(1, n_categories) # (1, 18)\n",
    "    tensor[0][li] = 1\n",
    "    return tensor\n",
    "\n",
    "# One - hot matrix of first to last letters (not including EOS) for input\n",
    "def inputTensor(line):\n",
    "    tensor = torch.zeros(len(line), 1, n_letters) # (line, 1, 57)\n",
    "    for li in range(len(line)):\n",
    "        letter = line[li]\n",
    "        tensor[li][0][all_letters.find(letter)] = 1\n",
    "    return tensor\n",
    "\n",
    "# LongTensor of second letter to end (EOS) for target\n",
    "def targetTensor(line):\n",
    "    letter_indexes = [all_letters.find(line[li]) for li in range(1, len(line))]\n",
    "    letter_indexes.append(n_letters - 1) # EOS\n",
    "    return torch.LongTensor(letter_indexes)"
   ]
  },
  {
   "cell_type": "code",
   "execution_count": 7,
   "id": "6a0bc256-ecdf-42b1-ac0f-1faf3f97399f",
   "metadata": {},
   "outputs": [],
   "source": [
    "# Make category, input, and target tensors from a random category, line pair\n",
    "def randomTrainingExample():\n",
    "    category, line = randomTrainingPair()\n",
    "    category_tensor = categoryTensor(category)\n",
    "    input_line_tensor = inputTensor(line)\n",
    "    target_line_tensor = targetTensor(line)\n",
    "    return category_tensor, input_line_tensor, target_line_tensor"
   ]
  },
  {
   "cell_type": "markdown",
   "id": "d0307514-c839-485e-83f5-c1f296a81aa7",
   "metadata": {},
   "source": [
    "# Training the Network\n",
    "- making a prediction at every step\n",
    "- calculating loss at every step\n",
    "- autograd: sum these losses at each step and call backward at the end"
   ]
  },
  {
   "cell_type": "code",
   "execution_count": 8,
   "id": "cb4b30cb-d78f-4fd4-8928-8f2b3defbca2",
   "metadata": {},
   "outputs": [],
   "source": [
    "criterion = nn.NLLLoss()\n",
    "\n",
    "learning_rate = 0.0005\n",
    "\n",
    "def train(category_tensor, input_line_tensor, target_line_tensor):\n",
    "    target_line_tensor.unsqueeze_(-1)\n",
    "    hidden = rnn.initHidden()\n",
    "    \n",
    "    rnn.zero_grad()\n",
    "    \n",
    "    loss = 0\n",
    "    \n",
    "    for i in range(input_line_tensor.size(0)):\n",
    "        output, hidden = rnn(category_tensor, input_line_tensor[i], hidden)\n",
    "        l = criterion(output, target_line_tensor[i])\n",
    "        loss += l\n",
    "        \n",
    "        loss.backward()\n",
    "        \n",
    "        for p in rnn.parameters():\n",
    "            p.data.add_(p.grad.data, alpha = - learning_rate)\n",
    "        return output, loss.item() / input_line_tensor.size(0)"
   ]
  },
  {
   "cell_type": "code",
   "execution_count": 9,
   "id": "3c49005a-0261-4ce2-bd90-bdbe3f3e6da1",
   "metadata": {},
   "outputs": [],
   "source": [
    "# To keep track of how long training takes I am adding a timeSince(timestamp) function which returns a human readable string:\n",
    "import time\n",
    "import math\n",
    "\n",
    "def timeSince(since):\n",
    "    now = time.time()\n",
    "    s = now - since\n",
    "    m = math.floor(s / 60)\n",
    "    s -= m * 60\n",
    "    return '%dm %ds' % (m,s)"
   ]
  },
  {
   "cell_type": "code",
   "execution_count": 10,
   "id": "37e133dd-cb3d-4907-ad90-65f528ef9d1d",
   "metadata": {},
   "outputs": [],
   "source": [
    "# Call train a bunch of times and wait a few minutes, printing the current time and loss every print_every examples\n",
    "# Keeping store of an average loss per plot_every examples in all_losses for plotting later."
   ]
  },
  {
   "cell_type": "code",
   "execution_count": 11,
   "id": "56fbe4a0-4f7d-4b72-a4cf-2d8d9ffc4bfe",
   "metadata": {},
   "outputs": [
    {
     "name": "stdout",
     "output_type": "stream",
     "text": [
      "0m 5s (5000 5%) 0.6199\n",
      "0m 10s (10000 10%) 1.1017\n",
      "0m 15s (15000 15%) 1.5697\n",
      "0m 20s (20000 20%) 0.3628\n",
      "0m 25s (25000 25%) 0.6329\n",
      "0m 30s (30000 30%) 0.1618\n",
      "0m 35s (35000 35%) 0.4784\n",
      "0m 40s (40000 40%) 0.1375\n",
      "0m 44s (45000 45%) 0.2992\n",
      "0m 49s (50000 50%) 0.6929\n",
      "0m 54s (55000 55%) 0.5085\n",
      "0m 59s (60000 60%) 0.2590\n",
      "1m 3s (65000 65%) 0.7968\n",
      "1m 8s (70000 70%) 0.1769\n",
      "1m 13s (75000 75%) 0.3218\n",
      "1m 19s (80000 80%) 0.3774\n",
      "1m 23s (85000 85%) 0.4617\n",
      "1m 28s (90000 90%) 0.4879\n",
      "1m 33s (95000 95%) 0.4239\n",
      "1m 38s (100000 100%) 0.6891\n"
     ]
    }
   ],
   "source": [
    "rnn = RNN(n_letters, 128, n_letters)\n",
    "\n",
    "n_iters = 100000\n",
    "print_every = 5000\n",
    "plot_every = 500\n",
    "all_losses = []\n",
    "total_loss = 0 # Reset every plot_every iters\n",
    "\n",
    "start = time.time()\n",
    "\n",
    "for iter in range(1, n_iters + 1):\n",
    "    output, loss = train(*randomTrainingExample())\n",
    "    total_loss += loss\n",
    "    \n",
    "    if iter %  print_every == 0:\n",
    "        print('%s (%d %d%%) %.4f' % (timeSince(start), iter, iter / n_iters * 100, loss))\n",
    "    if iter % plot_every == 0:\n",
    "        all_losses.append(total_loss / plot_every)\n",
    "        total_loss = 0"
   ]
  },
  {
   "cell_type": "markdown",
   "id": "1412fb4f-3a69-4973-9189-419a328d46a1",
   "metadata": {},
   "source": [
    "# Plotting the Losses"
   ]
  },
  {
   "cell_type": "code",
   "execution_count": 12,
   "id": "17409fd5-6935-4ee5-88b0-e3db90de7a27",
   "metadata": {},
   "outputs": [
    {
     "data": {
      "text/plain": [
       "[<matplotlib.lines.Line2D at 0x28d80e42850>]"
      ]
     },
     "execution_count": 12,
     "metadata": {},
     "output_type": "execute_result"
    },
    {
     "data": {
      "image/png": "[encoded data removed]",
      "text/plain": [
       "<Figure size 432x288 with 1 Axes>"
      ]
     },
     "metadata": {
      "needs_background": "light"
     },
     "output_type": "display_data"
    }
   ],
   "source": [
    "import matplotlib.pyplot as plt\n",
    "plt.figure()\n",
    "plt.plot(all_losses)"
   ]
  },
  {
   "cell_type": "markdown",
   "id": "19766d69-e457-4e1b-a6e0-ee9dda44ea50",
   "metadata": {},
   "source": [
    "# Sampling the Network"
   ]
  },
  {
   "cell_type": "raw",
   "id": "4a45d438-ce6e-4b11-bc59-8b4addbc9886",
   "metadata": {},
   "source": [
    "1. Create tensors for input category, starting letter, and empty hidden state\n",
    "2. Create a string output_name with the starting letter\n",
    "3. Up to a maximum output length,\n",
    "  - Feed the current letter to the network\n",
    "  - Get the next letter from highest output, and next hidden state\n",
    "  - If the letter is EOS, stop here\n",
    "  - If a regular letter, add to output_name and continue\n",
    "4. Return the final name"
   ]
  },
  {
   "cell_type": "code",
   "execution_count": 26,
   "id": "cf81998a-09d7-42ba-b6ff-f39791fb75cb",
   "metadata": {},
   "outputs": [
    {
     "name": "stdout",
     "output_type": "stream",
     "text": [
      "Koooaooaoooaoooaooooo\n",
      "Oohouoooooooooooooooo\n",
      "Roooooiiooooooooooooi\n",
      "Roooaooooooaooooooaoo\n",
      "Uaaaiaaaaaaaaaaaaaaaa\n",
      "Saaaahhaaaaaaaaaaahaa\n"
     ]
    }
   ],
   "source": [
    "max_length = 20\n",
    "\n",
    "# Sample from a category and starting letter\n",
    "def sample(category, start_letter = 'A'):\n",
    "    with torch.no_grad(): # no need to track histroy in sampling\n",
    "        category_tensor = categoryTensor(category)\n",
    "        input = inputTensor(start_letter)\n",
    "        hidden = rnn.initHidden()\n",
    "        \n",
    "        output_name = start_letter\n",
    "        \n",
    "        for i in range(max_length):\n",
    "            output, hidden = rnn(category_tensor, input[0], hidden)\n",
    "            topv, topi = output.topk(1)\n",
    "            topi = topi[0][0]\n",
    "            if topi == n_letters - 1: \n",
    "                break\n",
    "            else:\n",
    "                letter = all_letters[topi]\n",
    "                output_name += letter\n",
    "        input = inputTensor(letter)\n",
    "            \n",
    "        return output_name\n",
    "    \n",
    "# Get multiple samples from one category and multiple starting letters\n",
    "def samples(category, start_letters = 'ABC'):\n",
    "    for start_letter in start_letters:\n",
    "        print(sample(category, start_letter))\n",
    "        \n",
    "samples('Korean','KOR')\n",
    "samples('Russian', 'RUS')"
   ]
  },
  {
   "cell_type": "code",
   "execution_count": null,
   "id": "9accc847-3f0f-45ca-ae75-048b421f0954",
   "metadata": {},
   "outputs": [],
   "source": []
  },
  {
   "cell_type": "code",
   "execution_count": null,
   "id": "a9c0fc11-5df1-4fa3-a12d-a9b0f7dc08d5",
   "metadata": {},
   "outputs": [],
   "source": []
  },
  {
   "cell_type": "code",
   "execution_count": null,
   "id": "36ae2c66-1a19-40bf-b95a-6d950b1994e8",
   "metadata": {},
   "outputs": [],
   "source": []
  },
  {
   "cell_type": "code",
   "execution_count": null,
   "id": "4ba9111b-c0aa-49cf-bfca-686f1cc919e5",
   "metadata": {},
   "outputs": [],
   "source": []
  },
  {
   "cell_type": "code",
   "execution_count": null,
   "id": "d72fc32e-4b03-4775-9f94-a84cea94dcd6",
   "metadata": {},
   "outputs": [],
   "source": []
  },
  {
   "cell_type": "code",
   "execution_count": null,
   "id": "f0dfe977-83ed-46e7-9ce8-f6823376b2c8",
   "metadata": {},
   "outputs": [],
   "source": []
  },
  {
   "cell_type": "code",
   "execution_count": null,
   "id": "b61c1c8f-6ab4-49da-90fd-b10910eee6e3",
   "metadata": {},
   "outputs": [],
   "source": []
  }
 ],
 "metadata": {
  "kernelspec": {
   "display_name": "Python 3",
   "language": "python",
   "name": "python3"
  },
  "language_info": {
   "codemirror_mode": {
    "name": "ipython",
    "version": 3
   },
   "file_extension": ".py",
   "mimetype": "text/x-python",
   "name": "python",
   "nbconvert_exporter": "python",
   "pygments_lexer": "ipython3",
   "version": "3.8.8"
  }
 },
 "nbformat": 4,
 "nbformat_minor": 5
}
