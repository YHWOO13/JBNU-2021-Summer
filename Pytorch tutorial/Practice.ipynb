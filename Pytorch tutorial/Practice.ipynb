{
 "cells": [
  {
   "cell_type": "code",
   "execution_count": 1,
   "metadata": {},
   "outputs": [
    {
     "name": "stdout",
     "output_type": "stream",
     "text": [
      "First row tensor([1., 1., 1., 1.])\n",
      "First column tensor([1., 1., 1., 1.])\n",
      "Last column tensor([1., 1., 1., 1.])\n",
      "tensor([[1., 3., 1., 1.],\n",
      "        [1., 3., 1., 1.],\n",
      "        [1., 3., 1., 1.],\n",
      "        [1., 3., 1., 1.]])\n"
     ]
    }
   ],
   "source": [
    "import torch\n",
    "tensor = torch.ones(4,4)\n",
    "\n",
    "print('First row', tensor[0])\n",
    "print('First column', tensor[:, 2])\n",
    "print('Last column', tensor[..., -1])\n",
    "tensor[:,1] = 3\n",
    "print(tensor)\n"
   ]
  },
  {
   "cell_type": "code",
   "execution_count": 2,
   "metadata": {},
   "outputs": [],
   "source": [
    "w = torch.tensor(2.0, requires_grad = True)\n",
    "y = w ** 2\n",
    "z = 2*y + 5"
   ]
  },
  {
   "cell_type": "code",
   "execution_count": 3,
   "metadata": {},
   "outputs": [
    {
     "name": "stdout",
     "output_type": "stream",
     "text": [
      "a: None\n",
      "수식을 w로 미분한 값: 8.0\n"
     ]
    }
   ],
   "source": [
    "a = z.backward() # 그냥 수식을 w에 대해 미분\n",
    "\n",
    "print('a:',a)\n",
    "\n",
    "print('수식을 w로 미분한 값: {}'.format(w.grad)) # 미분후 w에 2값(앞에서 설정해 준) 대입"
   ]
  },
  {
   "cell_type": "code",
   "execution_count": null,
   "metadata": {},
   "outputs": [],
   "source": []
  }
 ],
 "metadata": {
  "kernelspec": {
   "display_name": "Python 3",
   "language": "python",
   "name": "python3"
  },
  "language_info": {
   "codemirror_mode": {
    "name": "ipython",
    "version": 3
   },
   "file_extension": ".py",
   "mimetype": "text/x-python",
   "name": "python",
   "nbconvert_exporter": "python",
   "pygments_lexer": "ipython3",
   "version": "3.7.6"
  }
 },
 "nbformat": 4,
 "nbformat_minor": 4
}
