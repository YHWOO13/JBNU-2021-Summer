{
 "cells": [
  {
   "cell_type": "code",
   "execution_count": 1,
   "metadata": {},
   "outputs": [
    {
     "data": {
      "text/plain": [
       "' \\n Author: Yoonhyuck WOO / JBNU_Industrial Information system Engineering\\n Date; 7. 22. 2021\\n Title: Linear Regression\\n Reference: https://wikidocs.net/59425'"
      ]
     },
     "execution_count": 1,
     "metadata": {},
     "output_type": "execute_result"
    }
   ],
   "source": [
    "''' \n",
    " Author: Yoonhyuck WOO / JBNU_Industrial Information system Engineering\n",
    " Date; 7. 22. 2021\n",
    " Title: Linear Regression\n",
    " Reference: https://wikidocs.net/59425'''"
   ]
  },
  {
   "cell_type": "code",
   "execution_count": 2,
   "metadata": {},
   "outputs": [],
   "source": [
    "import torch\n",
    "import torch.nn as nn\n",
    "import torch.nn.functional as F\n",
    "import torch.optim as optim"
   ]
  },
  {
   "cell_type": "markdown",
   "metadata": {},
   "source": [
    "# One-hot encoding\n",
    "- 정수 인코딩과 달리 원-핫 인코딩은 분류 문제 모든 클래스 간의 관계를 균등하게 분배\n",
    "- 모든 클래스에 원-핫 인코딩을 통해 얻은 원-핫 벡터들은 모든 쌍의 유클리드 거리를 구해도 전부 유클리드 거리가 동일\n",
    "- 원-핫 벡터는 이처럼 각 클래스의 표현 방법이 무작위성"
   ]
  },
  {
   "cell_type": "markdown",
   "metadata": {},
   "source": [
    "# 소프트맥스 회귀\n",
    "- 확률의 총 합이 1이 되는 이 아이디어를 다중 클래스 분류 문제에 적용\n",
    "- 선택지의 개수만큼의 차원을 가지는 벡터\n",
    "- 해당 벡터가 벡터의 모든 원소의 합이 1이 되도록 원소들의 값을 변환시키는 어떤 함수를 지나게 만들어야 한다.\n",
    "- 소프트맥스 함수의 출력값은 결국 예측값"
   ]
  },
  {
   "cell_type": "markdown",
   "metadata": {},
   "source": [
    "# 오차함수: 크로스 엔트로피 함수 사용"
   ]
  },
  {
   "cell_type": "code",
   "execution_count": 3,
   "metadata": {},
   "outputs": [
    {
     "data": {
      "text/plain": [
       "<torch._C.Generator at 0x1509c47f830>"
      ]
     },
     "execution_count": 3,
     "metadata": {},
     "output_type": "execute_result"
    }
   ],
   "source": [
    "torch.manual_seed(1)"
   ]
  },
  {
   "cell_type": "code",
   "execution_count": 4,
   "metadata": {},
   "outputs": [],
   "source": [
    "z = torch.rand(3, 5, requires_grad = True)\n",
    "hypothesis = F.softmax(z, dim = 1)"
   ]
  },
  {
   "cell_type": "markdown",
   "metadata": {},
   "source": [
    "# torch.randint: (행렬안에 들어갈 숫자 범위, (행,열)->shape)"
   ]
  },
  {
   "cell_type": "code",
   "execution_count": 5,
   "metadata": {},
   "outputs": [
    {
     "name": "stdout",
     "output_type": "stream",
     "text": [
      "tensor([0, 2, 1])\n"
     ]
    }
   ],
   "source": [
    "y = torch. randint(5, (3,)).long()\n",
    "print(y)"
   ]
  },
  {
   "cell_type": "markdown",
   "metadata": {},
   "source": [
    "# 원-핫 인코딩 만드는 방법"
   ]
  },
  {
   "cell_type": "code",
   "execution_count": 6,
   "metadata": {},
   "outputs": [
    {
     "data": {
      "text/plain": [
       "tensor([[1., 0., 0., 0., 0.],\n",
       "        [0., 0., 1., 0., 0.],\n",
       "        [0., 1., 0., 0., 0.]])"
      ]
     },
     "execution_count": 6,
     "metadata": {},
     "output_type": "execute_result"
    }
   ],
   "source": [
    "y_one_hot = torch.zeros_like(hypothesis)\n",
    "y_one_hot.scatter_(1, y.unsqueeze(1), 1)"
   ]
  },
  {
   "cell_type": "markdown",
   "metadata": {},
   "source": [
    "# 순서\n",
    "- 1. torch.zeros_like(hypothesis)를 통해 모든 원소가 0의 값을 가진 3 × 5 텐서를 만듭니다. 그리고 이 텐서는 y_one_hot에 저장이 된 상태\n",
    "- 2. 언스퀴즈(Unsqueeze) - 특정 위치에 1인 차원을 추가 => y.unsqueeze(1)를 하면 (3,)의 크기를 가졌던 y 텐서는 (3 × 1) 텐서가 됨\n",
    "- 3. scatter의 첫번째 인자로 dim=1에 대해서 수행, 세번째 인자에 숫자 1을 넣어주므로서 두번째 인자인 y_unsqeeze(1)이 알려주는 위치에 숫자 1을 넣음\n",
    "- 4. 연산 뒤에 '_'를 붙이면 In-place Operation (덮어쓰기 연산)임"
   ]
  },
  {
   "cell_type": "markdown",
   "metadata": {},
   "source": [
    "# 파이토치로 소프트맥스의 비용 함수 구현 (로우레벨)"
   ]
  },
  {
   "cell_type": "code",
   "execution_count": 7,
   "metadata": {},
   "outputs": [
    {
     "name": "stdout",
     "output_type": "stream",
     "text": [
      "tensor(1.4689, grad_fn=<MeanBackward0>)\n"
     ]
    }
   ],
   "source": [
    "cost = (y_one_hot * - torch.log(hypothesis)).sum(dim=1).mean()\n",
    "print(cost)"
   ]
  },
  {
   "cell_type": "markdown",
   "metadata": {},
   "source": [
    "# 파이토치로 소프트맥스의 비용 함수 구현 (하이레벨)\n",
    "# 1. F.softmax() + torch.log() = F.log_softmax()"
   ]
  },
  {
   "cell_type": "markdown",
   "metadata": {},
   "source": [
    "- torch.log(F.softmax(z, dim=1))를 방금 배운 F.log_softmax()로 대체할 수 있다.\n",
    "=> (y_one_hot * - F.log_softmax(z, dim=1)).sum(dim=1).mean()"
   ]
  },
  {
   "cell_type": "markdown",
   "metadata": {},
   "source": [
    "# 2. F.log_softmax() + F.nll_loss() = F.cross_entropy()\n",
    "- F.nll_loss()를 사용할 때는 원-핫 벡터를 넣을 필요없이 바로 실제값을 인자로 사용\n",
    "- nll이란 Negative Log Likelihood의 약자\n",
    "- =>F.nll_loss(F.log_softmax(z, dim=1), y)\n",
    "\n",
    "# ※ F.cross_entropy는 비용 함수에 소프트맥스 함수까지 포함하고 있음을 기억하고 있어야 구현 시 혼동하지 않습니다.\n",
    "- F.cross_entropy(z, y)"
   ]
  },
  {
   "cell_type": "markdown",
   "metadata": {},
   "source": [
    "# 소프트맥스 회귀 구현(row - level)"
   ]
  },
  {
   "cell_type": "code",
   "execution_count": 16,
   "metadata": {},
   "outputs": [
    {
     "name": "stdout",
     "output_type": "stream",
     "text": [
      "torch.Size([6, 2])\n",
      "torch.Size([6])\n"
     ]
    }
   ],
   "source": [
    "x_train = [[1,2],[2,2],[3,2],[4,2],[5,2],[6,2]] # 6개의 샘플, 각 샘플 당 2개의 특징\n",
    "y_train = [2,2,0,1,1,1] #3개의 클래스\n",
    "x_train = torch.FloatTensor(x_train)\n",
    "y_train = torch.LongTensor(y_train)\n",
    "print(x_train.shape)\n",
    "print(y_train.shape)"
   ]
  },
  {
   "cell_type": "code",
   "execution_count": 17,
   "metadata": {},
   "outputs": [
    {
     "name": "stdout",
     "output_type": "stream",
     "text": [
      "torch.Size([6, 3])\n"
     ]
    }
   ],
   "source": [
    "Y_one_hot = torch.zeros(6,3)\n",
    "Y_one_hot.scatter_(1, y_train.unsqueeze(1), 1)\n",
    "print(Y_one_hot.shape)"
   ]
  },
  {
   "cell_type": "code",
   "execution_count": 23,
   "metadata": {},
   "outputs": [],
   "source": [
    "W = torch.zeros((2,3), requires_grad = True)\n",
    "b = torch.zeros(1, requires_grad = True)\n",
    "\n",
    "optimizer = optim.SGD([W,b], lr=0.1)"
   ]
  },
  {
   "cell_type": "code",
   "execution_count": 25,
   "metadata": {},
   "outputs": [
    {
     "name": "stdout",
     "output_type": "stream",
     "text": [
      "Epoch    0/1000 Cost: 0.900277\n",
      "Epoch  100/1000 Cost: 0.417405\n",
      "Epoch  200/1000 Cost: 0.328028\n",
      "Epoch  300/1000 Cost: 0.280980\n",
      "Epoch  400/1000 Cost: 0.249638\n",
      "Epoch  500/1000 Cost: 0.226434\n",
      "Epoch  600/1000 Cost: 0.208180\n",
      "Epoch  700/1000 Cost: 0.193241\n",
      "Epoch  800/1000 Cost: 0.180669\n",
      "Epoch  900/1000 Cost: 0.169869\n",
      "Epoch 1000/1000 Cost: 0.160443\n"
     ]
    }
   ],
   "source": [
    "nb_epochs = 1000\n",
    "for epoch in range(nb_epochs + 1):\n",
    "    \n",
    "    hypothesis = F.softmax(x_train.matmul(W) + b, dim = 1)\n",
    "    \n",
    "    cost = (Y_one_hot * - torch.log(hypothesis)).sum(dim = 1).mean()\n",
    "    \n",
    "    optimizer.zero_grad()\n",
    "    cost.backward()\n",
    "    optimizer.step()\n",
    "    \n",
    "    if epoch % 100 == 0:\n",
    "        print('Epoch {:4d}/{} Cost: {:.6f}'.format(epoch, nb_epochs, cost.item()\n",
    "                                                  ))"
   ]
  },
  {
   "cell_type": "markdown",
   "metadata": {},
   "source": [
    "# 소프트맥스 회귀 구현(high - level)"
   ]
  },
  {
   "cell_type": "code",
   "execution_count": 26,
   "metadata": {},
   "outputs": [
    {
     "name": "stdout",
     "output_type": "stream",
     "text": [
      "Epoch    0/1000 Cost: 0.160355\n",
      "Epoch  100/1000 Cost: 0.152034\n",
      "Epoch  200/1000 Cost: 0.144604\n",
      "Epoch  300/1000 Cost: 0.137913\n",
      "Epoch  400/1000 Cost: 0.131845\n",
      "Epoch  500/1000 Cost: 0.126310\n",
      "Epoch  600/1000 Cost: 0.121234\n",
      "Epoch  700/1000 Cost: 0.116558\n",
      "Epoch  800/1000 Cost: 0.112233\n",
      "Epoch  900/1000 Cost: 0.108219\n",
      "Epoch 1000/1000 Cost: 0.104482\n"
     ]
    }
   ],
   "source": [
    "nb_epochs = 1000\n",
    "for epoch in range(nb_epochs + 1):\n",
    "    \n",
    "    z = x_train.matmul(W) + b\n",
    "    \n",
    "    cost = F.cross_entropy(z, y_train)\n",
    "    \n",
    "    optimizer.zero_grad()\n",
    "    cost.backward()\n",
    "    optimizer.step()\n",
    "    \n",
    "    if epoch % 100 == 0:\n",
    "        print('Epoch {:4d}/{} Cost: {:.6f}'.format(epoch, nb_epochs, cost.item()\n",
    "                                                  ))"
   ]
  },
  {
   "cell_type": "code",
   "execution_count": null,
   "metadata": {},
   "outputs": [],
   "source": []
  }
 ],
 "metadata": {
  "kernelspec": {
   "display_name": "Python 3",
   "language": "python",
   "name": "python3"
  },
  "language_info": {
   "codemirror_mode": {
    "name": "ipython",
    "version": 3
   },
   "file_extension": ".py",
   "mimetype": "text/x-python",
   "name": "python",
   "nbconvert_exporter": "python",
   "pygments_lexer": "ipython3",
   "version": "3.7.6"
  }
 },
 "nbformat": 4,
 "nbformat_minor": 4
}
